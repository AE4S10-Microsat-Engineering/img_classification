{
  "cells": [
    {
      "cell_type": "markdown",
      "metadata": {
        "id": "8V-uUfu6n20n"
      },
      "source": [
        "# Train on MNIST - Example"
      ]
    },
    {
      "cell_type": "markdown",
      "metadata": {
        "id": "T4_shxNsxOW4"
      },
      "source": [
        "This notebook is used to implement the training of a neural network for the [\"MNIST (\"Modified National Institute of Standards and Technology\")](http://yann.lecun.com/exdb/mnist/index.html) dataset. <br> To train our network, we use [PyTorch](https://pytorch.org/). <br> PyTorch implements a suit that allows you to implement a neural network and the backpropagation algorithm easily. <br>\n",
        "For aximum performance, we suggest to switch the computing resources to `GPU`. You can do that by clicking on the arrow on top-right of the screen, then `change runtype time`, and finally `T4 GPU`."
      ]
    },
    {
      "cell_type": "markdown",
      "metadata": {
        "id": "BayGv92FeGJQ"
      },
      "source": [
        "The next celll will install [torchvision](https://pytorch.org/vision/stable/index.html), which is needed to download and manage the MNIST dataset."
      ]
    },
    {
      "cell_type": "code",
      "execution_count": 1,
      "metadata": {
        "colab": {
          "base_uri": "https://localhost:8080/"
        },
        "id": "Uv6autZ4n4a5",
        "outputId": "69029850-34ab-4096-f0d2-ba222afbe4d6"
      },
      "outputs": [
        {
          "name": "stderr",
          "output_type": "stream",
          "text": [
            "\u001b[2mUsing Python 3.12.8 environment at: C:\\Users\\jesse\\Documents\\TU Delft\\MSE git\\img_classification\\.venv\u001b[0m\n",
            "\u001b[2mAudited \u001b[1m2 packages\u001b[0m \u001b[2min 6ms\u001b[0m\u001b[0m\n"
          ]
        }
      ],
      "source": [
        "!uv pip install torch torchvision"
      ]
    },
    {
      "cell_type": "markdown",
      "metadata": {
        "id": "Nma_JWh-W-IF"
      },
      "source": [
        "## 1. - Imports"
      ]
    },
    {
      "cell_type": "markdown",
      "metadata": {
        "id": "5fCEDCU_qrC0"
      },
      "source": [
        "Enabling autoreload of different packages."
      ]
    },
    {
      "cell_type": "code",
      "execution_count": 2,
      "metadata": {
        "id": "38QZieHiyZOK"
      },
      "outputs": [],
      "source": [
        "%load_ext autoreload\n",
        "%autoreload 2"
      ]
    },
    {
      "cell_type": "markdown",
      "metadata": {
        "id": "GJBs_flRovLc"
      },
      "source": [
        "### 1.1 Assignment imports"
      ]
    },
    {
      "cell_type": "code",
      "execution_count": 3,
      "metadata": {
        "id": "-EQlMgLSyfzd"
      },
      "outputs": [],
      "source": [
        "import matplotlib.pyplot as plt\n",
        "import pickle\n",
        "import torch\n",
        "import torch.nn as nn\n",
        "import torch.nn.functional as F\n",
        "from sklearn.model_selection import train_test_split\n",
        "from torch.utils.data import DataLoader\n",
        "from torchvision import datasets, transforms\n",
        "from tqdm import tqdm"
      ]
    },
    {
      "cell_type": "markdown",
      "metadata": {
        "id": "ZRKvCr7wz5yd"
      },
      "source": [
        "## 2. - Datasets"
      ]
    },
    {
      "cell_type": "markdown",
      "metadata": {
        "id": "SOleOYbeBSC4"
      },
      "source": [
        "### 2.1 - Loading MNIST dataset"
      ]
    },
    {
      "cell_type": "markdown",
      "metadata": {
        "id": "AB2i_MUd0rrj"
      },
      "source": [
        "We now download load the dataset into 2 splits (`Train` and `Test`)."
      ]
    },
    {
      "cell_type": "code",
      "execution_count": 4,
      "metadata": {
        "colab": {
          "base_uri": "https://localhost:8080/"
        },
        "id": "Qv20ur2D0BIj",
        "outputId": "876c87b0-0f2b-474e-dffc-d5b21fd5f1c0"
      },
      "outputs": [
        {
          "name": "stdout",
          "output_type": "stream",
          "text": [
            "Downloading http://yann.lecun.com/exdb/mnist/train-images-idx3-ubyte.gz\n",
            "Failed to download (trying next):\n",
            "HTTP Error 403: Forbidden\n",
            "\n",
            "Downloading https://ossci-datasets.s3.amazonaws.com/mnist/train-images-idx3-ubyte.gz\n",
            "Downloading https://ossci-datasets.s3.amazonaws.com/mnist/train-images-idx3-ubyte.gz to ../data\\MNIST\\raw\\train-images-idx3-ubyte.gz\n"
          ]
        },
        {
          "name": "stderr",
          "output_type": "stream",
          "text": [
            "100%|██████████| 9.91M/9.91M [00:00<00:00, 10.1MB/s]\n"
          ]
        },
        {
          "name": "stdout",
          "output_type": "stream",
          "text": [
            "Extracting ../data\\MNIST\\raw\\train-images-idx3-ubyte.gz to ../data\\MNIST\\raw\n",
            "\n",
            "Downloading http://yann.lecun.com/exdb/mnist/train-labels-idx1-ubyte.gz\n",
            "Failed to download (trying next):\n",
            "HTTP Error 403: Forbidden\n",
            "\n",
            "Downloading https://ossci-datasets.s3.amazonaws.com/mnist/train-labels-idx1-ubyte.gz\n",
            "Downloading https://ossci-datasets.s3.amazonaws.com/mnist/train-labels-idx1-ubyte.gz to ../data\\MNIST\\raw\\train-labels-idx1-ubyte.gz\n"
          ]
        },
        {
          "name": "stderr",
          "output_type": "stream",
          "text": [
            "100%|██████████| 28.9k/28.9k [00:00<00:00, 130kB/s]\n"
          ]
        },
        {
          "name": "stdout",
          "output_type": "stream",
          "text": [
            "Extracting ../data\\MNIST\\raw\\train-labels-idx1-ubyte.gz to ../data\\MNIST\\raw\n",
            "\n",
            "Downloading http://yann.lecun.com/exdb/mnist/t10k-images-idx3-ubyte.gz\n",
            "Failed to download (trying next):\n",
            "HTTP Error 403: Forbidden\n",
            "\n",
            "Downloading https://ossci-datasets.s3.amazonaws.com/mnist/t10k-images-idx3-ubyte.gz\n",
            "Downloading https://ossci-datasets.s3.amazonaws.com/mnist/t10k-images-idx3-ubyte.gz to ../data\\MNIST\\raw\\t10k-images-idx3-ubyte.gz\n"
          ]
        },
        {
          "name": "stderr",
          "output_type": "stream",
          "text": [
            "100%|██████████| 1.65M/1.65M [00:05<00:00, 312kB/s]\n"
          ]
        },
        {
          "name": "stdout",
          "output_type": "stream",
          "text": [
            "Extracting ../data\\MNIST\\raw\\t10k-images-idx3-ubyte.gz to ../data\\MNIST\\raw\n",
            "\n",
            "Downloading http://yann.lecun.com/exdb/mnist/t10k-labels-idx1-ubyte.gz\n",
            "Failed to download (trying next):\n",
            "HTTP Error 403: Forbidden\n",
            "\n",
            "Downloading https://ossci-datasets.s3.amazonaws.com/mnist/t10k-labels-idx1-ubyte.gz\n",
            "Downloading https://ossci-datasets.s3.amazonaws.com/mnist/t10k-labels-idx1-ubyte.gz to ../data\\MNIST\\raw\\t10k-labels-idx1-ubyte.gz\n"
          ]
        },
        {
          "name": "stderr",
          "output_type": "stream",
          "text": [
            "100%|██████████| 4.54k/4.54k [00:00<?, ?B/s]"
          ]
        },
        {
          "name": "stdout",
          "output_type": "stream",
          "text": [
            "Extracting ../data\\MNIST\\raw\\t10k-labels-idx1-ubyte.gz to ../data\\MNIST\\raw\n",
            "\n"
          ]
        },
        {
          "name": "stderr",
          "output_type": "stream",
          "text": [
            "\n"
          ]
        }
      ],
      "source": [
        "# Train split\n",
        "train_MNIST = datasets.MNIST('../data', train=True, download=True,\n",
        "                   transform=transforms.Compose([\n",
        "                       transforms.ToTensor()\n",
        "                   ]))\n",
        "# Test split\n",
        "test_MNIST = datasets.MNIST('../data', train=False, transform=transforms.Compose([\n",
        "                       transforms.ToTensor(),\n",
        "                   ]))"
      ]
    },
    {
      "cell_type": "markdown",
      "metadata": {
        "id": "QlN1Md3nBoJ-"
      },
      "source": [
        "### 3.2 - Splitting Train into Train and Cross Validation"
      ]
    },
    {
      "cell_type": "markdown",
      "metadata": {
        "id": "F7xOMuY9Bt2C"
      },
      "source": [
        "As discussed in the lecture slides, to train the model correctly we split the entire MNIST dataset into three splits to train our model:\n",
        "* **Train** : 71.43%\n",
        "* **Cross-Validation** : 14.23%\n",
        "* **Test**: 14.23% <br>\n",
        "\n",
        "You can also change the train/cross-validation percentage by changing the value of `cv_percentage` from its default value (`0.1666540669186616`). <br> <br>\n",
        "It is also possible to test a wrong splitting that leads to **overfitting**. Ovefitting occurs when the model fits the training split too tightly that is not able to generalize on the validation and test splits. To virtually creating overfitting, set the flag `test_overfitting` to `True`. If you do that, we will split the dataset so that all the images containing a `8` or a `9` will be not included in the training but in the cross-validation. In this condition, the model will be able to learn the data in the training set quite well. However, it will be not able to classify correctly the images containing `8` or a `9` since it did not see them during training. This is similar to the experience that  students might face when the explanations given in class do not cover topics requested in their homework. Overfitting is not only due to mistmatches between the data distributions of training and other splits. Later you will find a more detailed explanation about this problem.  \n",
        "<br>\n",
        "If you want to experiment **underfitting**, set `test_overfitting` to `False` and  increase the value of `cv_precentage` from its default value to `0.95`. This will significantly increase the size of the **cross validation split** at detriment of the **train split**, which will be strongly reduced.  In this condition, the model has so few data available for training that is not able to learn at all. <br> This is similar to the condition that students face when the explanation provided by tutor is so poor that they are not even able to reproduce the exercises done during the lesson. <br> I hope this is not the case for you :)."
      ]
    },
    {
      "cell_type": "code",
      "execution_count": 5,
      "metadata": {
        "id": "Zlw-38ac73tA"
      },
      "outputs": [],
      "source": [
        "# CV percentage (ignored if test_overfitting == True)\n",
        "cv_percentage=0.1666540669186616"
      ]
    },
    {
      "cell_type": "markdown",
      "metadata": {
        "id": "8gphZFCT8gSf"
      },
      "source": [
        "We are now randomly splitting `train_MNIST` into `train_MNIST` and `cv_MNIST` with the requested percentages."
      ]
    },
    {
      "cell_type": "code",
      "execution_count": 6,
      "metadata": {
        "id": "Ble4xYM9CU7q"
      },
      "outputs": [],
      "source": [
        "# Stacking tuples into a single list\n",
        "train_MNIST_list = []\n",
        "train_MNIST_list = [train_MNIST_list + list(x) for x in train_MNIST]\n",
        "\n",
        "# Creating random splits with the requested percentage\n",
        "train_idx, valid_idx = train_test_split(list(range(60000)), test_size=(cv_percentage))\n",
        "# Creating Valid\n",
        "cv_MNIST = [train_MNIST_list[x] for x in valid_idx]\n",
        "# Creating Train\n",
        "train_MNIST = [train_MNIST_list[x] for x in train_idx]"
      ]
    },
    {
      "cell_type": "markdown",
      "metadata": {
        "id": "SIu2eewv0qsH"
      },
      "source": [
        "## 3 - Creating a model"
      ]
    },
    {
      "cell_type": "markdown",
      "metadata": {
        "id": "PuWZYZhV9pg6"
      },
      "source": [
        "We now create a custom **Convolutional Neural Network (CNN)**. The network is created and designed **from scratch** for the sake of providing an example. <br> However, in real life, this might not be the best idea. [Here](https://paperswithcode.com/sota/image-classification-on-imagenet) you can see the benchmark among different models on the [ImageNet](https://www.image-net.org/), a very complex benchmark dataset for image classification. <br>\n",
        "In general, it is also possible to start from a **pretrained model**, i.e., a model that was already trained on another dataset (typically, `ImageNet`) to leverage preliminary `knowledge` that a network acquired on another dataset, which can be particularly useful when few training examples are available. <br> In our example, the network is custom and not pretrained."
      ]
    },
    {
      "cell_type": "code",
      "execution_count": 7,
      "metadata": {
        "id": "7C5_yanr1oHp"
      },
      "outputs": [],
      "source": [
        "class CNNNet(nn.Module):\n",
        "    #This defines the structure of the NN.\n",
        "    def __init__(self):\n",
        "        super(CNNNet, self).__init__()\n",
        "        # Convolutional layer (1 input channel, 25 output-channels, 5x5 kernels)\n",
        "        self.conv1 = nn.Conv2d(1, 25, kernel_size=5)\n",
        "        # Convolutional layer (25 input channel, 100 output-channels, 5x5 k.)\n",
        "        self.conv2 = nn.Conv2d(25, 100, kernel_size=5)\n",
        "        # Dropout - This layer is used to remove unnecessary neurons.\n",
        "        self.conv2_drop = nn.Dropout2d()\n",
        "        # Convolutional layer (100 input channel, 25 output-channels, 3x3 k.)\n",
        "        self.conv3 = nn.Conv2d(100, 25, kernel_size=3)\n",
        "        # Average pooling - Spatial average of the pixels\n",
        "        self.avg_pool = torch.nn.AvgPool2d(2)\n",
        "        # Fully connected layer\n",
        "        self.fc2 = nn.Linear(25, 10)\n",
        "\n",
        "    # Describes how the network behave\n",
        "    def forward(self, x):\n",
        "\n",
        "        y = self.conv1(x)\n",
        "        # Pooling layers - selects the max between 2 neurons\n",
        "        y = F.max_pool2d(y,2)\n",
        "        # Relu - Activation function\n",
        "        y = F.relu(y)\n",
        "        # Convolutional layer (10 input channel, 50 output-channels, 5x5 k.)\n",
        "        y = self.conv2(y)\n",
        "        # Dropout\n",
        "        y = self.conv2_drop(y)\n",
        "        # Pooling layers - selects the max between 2 neurons\n",
        "        y = F.max_pool2d(y,2)\n",
        "        # Relu - Activation function\n",
        "        y = F.relu(y)\n",
        "        # Convolutional layer\n",
        "        y = self.conv3(y)\n",
        "        # Relu - Activation function\n",
        "        y = F.relu(y)\n",
        "        # Convolutional layer\n",
        "        y = self.avg_pool(y)\n",
        "        # Fully connected layer\n",
        "        # Squeeze is needed because fc2 requires\n",
        "        # a 2D tensor.\n",
        "        y = self.fc2(y.squeeze(-1).squeeze(-1))\n",
        "        # Applying Softmax\n",
        "        p_c = F.log_softmax(y, dim=1)\n",
        "        return p_c"
      ]
    },
    {
      "cell_type": "markdown",
      "metadata": {
        "id": "iKEsY4ApzRHD"
      },
      "source": [
        "We create an instance of our network."
      ]
    },
    {
      "cell_type": "code",
      "execution_count": 8,
      "metadata": {
        "id": "emzBWMd_-4u1"
      },
      "outputs": [],
      "source": [
        "model = CNNNet()"
      ]
    },
    {
      "cell_type": "markdown",
      "metadata": {
        "id": "nZVvxHJj_DSy"
      },
      "source": [
        "## 4 - Preparing for training - Setting Hyperparameters"
      ]
    },
    {
      "cell_type": "markdown",
      "metadata": {
        "id": "LWboeHcHc1GO"
      },
      "source": [
        "Weights and biases in a model are called **parameters**, which are actually learned by the model during training. However, there are other tunable variables such as the number of neurons in a layer, the size of a kernel, and others that are not directly learned by the network but whose values can affect training. Such variables are called **hyperparameters**. Some of the hyperparameters, such as the number of epochs and learning rate, will be now explained and set."
      ]
    },
    {
      "cell_type": "markdown",
      "metadata": {
        "id": "NpKYC9gh_XDR"
      },
      "source": [
        "### 4.1 - Setting Cross-entropy loss."
      ]
    },
    {
      "cell_type": "markdown",
      "metadata": {
        "id": "wzmu-fek_Zbc"
      },
      "source": [
        "To train the model, we use [Categorical Cross-entropy](https://pytorch.org/docs/stable/generated/torch.nn.CrossEntropyLoss.html) loss, as specified by the next cell."
      ]
    },
    {
      "cell_type": "code",
      "execution_count": 9,
      "metadata": {
        "id": "sAJYfyXO_Ree"
      },
      "outputs": [],
      "source": [
        "loss = nn.CrossEntropyLoss()"
      ]
    },
    {
      "cell_type": "markdown",
      "metadata": {
        "id": "tPtLQZwe_zlw"
      },
      "source": [
        "4.2 - Selecting number of epochs and batch size."
      ]
    },
    {
      "cell_type": "markdown",
      "metadata": {
        "id": "Biskgzvk_2Py"
      },
      "source": [
        "We are going to select:\n",
        "* `number of epochs`: number of epochs specify how many times the entire dataset is seen by the model during training. Increasing the number of epochs typically leads the model to learn better the training dataset (i.e., to lower loss values in the training set). However, this is not necessarily a positive thing given the risk of **overfitting** the dataset. **Try to play with the number of epochs to see the impact in training.**\n",
        "\n",
        "* `batch size`: In the lesson slides, we have calculated the loss over the entire dataset (whose number is called `N`). When the input data are images, it is typically impossible to provide the entire dataset as input to the model in a single pass because of GPU/CPU memory limitations. Therefore, each epoch is therefore divided into a certain number of `iterations`, during which the loss function is calculated on a reduced number of samples (`batch`). The `batch size` is, of course, the size of batches. Typically, the `batch size` is a power of 2 to allow for better computational performances (better optimization to computing hardware). <br> The choice on the `batch size` typically influences both the training time and the model accuracy.  **Higher batch sizes** allow for:\n",
        "    *  **higher computational performances**: because of the higher parallization (as far as they fit into your hardware memory and your hardware can profit of it).\n",
        "    *  **lower convergence** (so, not necessarily a faster training in the end):  high batch size means lower number of batches and, therefore, lower number of updates.\n",
        "    *  **more robust toward noise and fluctuations**: because the loss is evaluated on a higher number of samples, so the averaging effect is stronger.\n",
        "    *  **higher overfitting**: the noise due to batching acts as a regularization agent during the training reducing overfitting. Such noise is reduced because of the stronger averaging effect, diminishing the regularization effect."
      ]
    },
    {
      "cell_type": "code",
      "execution_count": 10,
      "metadata": {
        "id": "VjIhY9K6_geQ"
      },
      "outputs": [],
      "source": [
        "# Number of epochs\n",
        "n_epochs = 10\n",
        "# Batch size\n",
        "batch_size=32"
      ]
    },
    {
      "cell_type": "markdown",
      "metadata": {
        "id": "WM1mEs3ZAtlx"
      },
      "source": [
        "### 4.2 - Create dataloaders."
      ]
    },
    {
      "cell_type": "markdown",
      "metadata": {
        "id": "Bsn-c15wAy1f"
      },
      "source": [
        "To break your dataset into `batch` of size `batch_size`, PyTorch provides a construct called [data loader](https://www.educative.io/answers/what-is-pytorch-dataloader).<br> As previously mentioned, this is useful to ensure that your dataset will fit into your memory and to create a \"stochastic\" implementation of gradient descent. <br>"
      ]
    },
    {
      "cell_type": "code",
      "execution_count": 11,
      "metadata": {
        "id": "6RiCKFMPAyLe"
      },
      "outputs": [],
      "source": [
        "# Train loader\n",
        "train_loader = DataLoader(train_MNIST, batch_size=batch_size, pin_memory=False, shuffle=True)\n",
        "# Cross validation data loader\n",
        "valid_loader = DataLoader(cv_MNIST, batch_size=batch_size, pin_memory=False, shuffle=True)\n",
        "# Test data loader\n",
        "test_loader = DataLoader(test_MNIST, batch_size=batch_size, pin_memory=False, shuffle=True)"
      ]
    },
    {
      "cell_type": "markdown",
      "metadata": {
        "id": "X7zTkwuoHNOX"
      },
      "source": [
        "### 4.3 -  Selecting Training optimizer"
      ]
    },
    {
      "cell_type": "markdown",
      "metadata": {
        "id": "uRRMv_RdHaY6"
      },
      "source": [
        "To train the model we are now selecting [SGD](https://pytorch.org/docs/stable/generated/torch.optim.SGD.html) optimizer, which means `Stochastic Gradient Descent`. <br> You can think of optimizers as rules that specify how to update parameters. Different optimers lead to different weights for the same model, data and loss function. There is not a specific rule on how to select an optimizer. You can find more information on optimizers [here](https://pytorch.org/docs/stable/optim.html) is popular for its performance/memory-efficiency trade-offs. <br> The **learning rate** (`lr`) is a scale-factor hyperparameter that determines the step-size in updating your model parameters. During training, you want to minimize the loss function, which means reaching the minimum with a fixed step size. The **learning rate** is the size of your step, If your step is too big, you might end-up missing the minimum and jumping over the minimum. However, if your step is too small, your training time will be very long and the risk to get stuck in local minima is very high."
      ]
    },
    {
      "cell_type": "code",
      "execution_count": 12,
      "metadata": {
        "id": "pUDcRiCtHHB4"
      },
      "outputs": [],
      "source": [
        "# Optimizer\n",
        "optimizer = torch.optim.SGD(model.parameters(), lr=0.0005)"
      ]
    },
    {
      "cell_type": "markdown",
      "metadata": {
        "id": "NSL7vH-WIO3l"
      },
      "source": [
        "## 5 - Train"
      ]
    },
    {
      "cell_type": "markdown",
      "metadata": {
        "id": "BItaHAzsIR-m"
      },
      "source": [
        "In the next cell, we start the training of our model.\n",
        "During the training we log the `train_loss` and the `evaluation_loss` to be able to monitor the outcome of training after training. <br>  Training of deep neural networks is typically  a slow processes. Because of that, it is possible to skip the training process by loading the trained model and the values of the loss from files to save you some time. To this aim, set the flag `skip_train` to `True` in the next cell. <br> However, it could be useful to you to try change some of the parameters (e.g., `cv_percentage`, `nr_of_epochs`) to see their impact on training results."
      ]
    },
    {
      "cell_type": "code",
      "execution_count": 13,
      "metadata": {
        "id": "w7MnQ-b73Ein"
      },
      "outputs": [],
      "source": [
        "skip_training=False"
      ]
    },
    {
      "cell_type": "markdown",
      "metadata": {
        "id": "l1ntScsg3B_9"
      },
      "source": [
        "If you have selected `skip_training=False`, training will be started. In addition to the loss values, we also print the `accuracy` on `train` and `cross_validation`. You should see the **losses decreasing** and **accuracies increasing** (as a trend) over the various epochs. <br> Please, notice that we are not trying to prevent overfitting in any way (except for Dropout layers). <br>"
      ]
    },
    {
      "cell_type": "code",
      "execution_count": null,
      "metadata": {
        "colab": {
          "base_uri": "https://localhost:8080/"
        },
        "id": "sMbyG13MISNm",
        "outputId": "458f408d-7e93-451a-8b2b-e72fb0ffee6c"
      },
      "outputs": [],
      "source": [
        "# Training performed\n",
        "if not(skip_training):\n",
        "\n",
        "  # Placeholder for training loss\n",
        "  train_loss_list=[]\n",
        "  # Placeholder for validation loss\n",
        "  cv_loss_list=[]\n",
        "\n",
        "  # If GPU is available and selected, model is moved to GPU.\n",
        "  if torch.cuda.is_available():\n",
        "    model=model.cuda()\n",
        "\n",
        "  # Start training - looping over n_epochs.\n",
        "  for epoch in tqdm(range(n_epochs), desc=\"Epochs\"):\n",
        "      # Setting up the model to perform training.\n",
        "      model.train()\n",
        "\n",
        "      # Number of correct predictions for train split\n",
        "      train_correct = 0\n",
        "      # Number of total predictions for train split\n",
        "      train_total = 0\n",
        "      # Perform mini-batch training, i.e., splitting training into a certain number of batches.\n",
        "      for x_train_batch, y_train_batch in tqdm(train_loader, desc='Training - Iterations:'):\n",
        "          # If GPU is available and selected, data are moved to GPU.\n",
        "          if torch.cuda.is_available():\n",
        "            # Move to GPU\n",
        "            x_train_batch=x_train_batch.cuda()\n",
        "            y_train_batch=y_train_batch.cuda()\n",
        "\n",
        "          # Setting the gradient to zero.\n",
        "          optimizer.zero_grad()\n",
        "          # Calculating the predictions on the batch.\n",
        "          y_pred_train = model(x_train_batch)\n",
        "          # Calculating the loss between Y_pred and the y_train_batch (targets).\n",
        "          train_loss = loss(y_pred_train, y_train_batch)\n",
        "          # Back-propagting the loss, i.e., calculating the weight increments in the different layers.\n",
        "          train_loss.backward()\n",
        "          # Updating weights by using SGD optimizer.\n",
        "          optimizer.step()\n",
        "          # Extracting predicted class.\n",
        "          y_train_predicted_class = torch.max(y_pred_train, 1)[1]\n",
        "          # Updating total and number of corrected patches\n",
        "          train_correct += (y_train_predicted_class == y_train_batch).sum().item()\n",
        "          train_total += y_train_batch.size(0)\n",
        "\n",
        "      # Calculating training accuracy\n",
        "      train_accuracy = train_correct/train_total * 100\n",
        "\n",
        "      # Append training loss values at the end of an epoch\n",
        "      train_loss_list.append(train_loss)\n",
        "\n",
        "\n",
        "      print(f'Evaluating model at epoch: {epoch}.')\n",
        "\n",
        "      # Setting up the model to perform the inference (some layers in the model behave differently during the training and inference)\n",
        "      model.eval()\n",
        "\n",
        "      # Number of correct predictions for cross validation split\n",
        "      cv_correct = 0\n",
        "      # Number of total predictions for cross validation split\n",
        "      cv_total = 0\n",
        "\n",
        "      # Evaluating model on the cross-validation split. Since we are not training, we do not need to calculate gradients.\n",
        "      with torch.no_grad():\n",
        "          # Splitting cross-validation into batches.\n",
        "          for x_cv_batch, y_cv_batch in tqdm(valid_loader, desc='Evaluation - Iteration:'):\n",
        "              # Moving batches to the GPU if available\n",
        "              if torch.cuda.is_available():\n",
        "                  x_cv_batch=x_cv_batch.cuda()\n",
        "                  y_cv_batch=y_cv_batch.cuda()\n",
        "\n",
        "              # Performing evaluation on the cross-valiation split.\n",
        "              y_cv_pred = model(x_cv_batch)\n",
        "              # Extracting loss on the cross-valiation split.\n",
        "              cv_loss = loss(y_cv_pred, y_cv_batch)\n",
        "              # Extracting predicted class.\n",
        "              y_cv_predicted_class =  torch.max(y_cv_pred, 1)[1]\n",
        "              # Updating total and number of corrected patches\n",
        "              cv_total += y_cv_batch.size(0)\n",
        "              cv_correct += (y_cv_predicted_class == y_cv_batch).sum().item()\n",
        "          # Calculating the evaluation accuracy\n",
        "          cv_accuracy = cv_correct/cv_total * 100\n",
        "\n",
        "          # Append validation loss values at the end\n",
        "          cv_loss_list.append(cv_loss)\n",
        "\n",
        "      # Print information\n",
        "      print(f\"\\033[1mEpoch\\033[1m: {str(epoch)}\")\n",
        "      print(f\"\\033[1mTrain loss\\033[1m: {str(float(train_loss))}.\")\n",
        "      print(f\"\\033[1mTrain accuracy[%]\\033[1m: {str(train_accuracy)}.\")\n",
        "      print(f\"\\033[1mCross-validation loss\\033[1m: {str(float(cv_loss))}.\")\n",
        "      print(f\"\\033[1mCross-validation accuracy[%]\\033[1m: {str(cv_accuracy)}.\")\n",
        "\n",
        "  # Saving best model\n",
        "  torch.save(model.state_dict(), \"trained_model.pth\")\n",
        "  print(\"Train finished.\")\n",
        "else:\n",
        "  print(\"Skipping training...\")\n",
        "  try:\n",
        "    # Load loss values from file\n",
        "    with open('losses.pkl', \"rb\") as f:  # Python 3: open(..., 'rb')\n",
        "      train_loss_list, cv_loss_list = pickle.load(f)\n",
        "  except:\n",
        "    raise ValueError(\"It seems you have missed some files from Brightspace. One or both the losses values were missing. Please, upload them and execute this cell again or try to do the training.\")\n",
        "  try:\n",
        "    model.load_state_dict(torch.load(\"trained_model.pth\"))\n",
        "  except:\n",
        "    raise ValueError(\"It seems you are using a different model from the default one (strong) or the \"\"trained_model.pth\"\" file is missing.\")"
      ]
    },
    {
      "cell_type": "markdown",
      "metadata": {
        "id": "r2srK0XP6_Sp"
      },
      "source": [
        "## 6 - Monitor training results"
      ]
    },
    {
      "cell_type": "markdown",
      "metadata": {
        "id": "BZx5FavOFhNb"
      },
      "source": [
        "### 6.1 - Plotting loss values over training"
      ]
    },
    {
      "cell_type": "markdown",
      "metadata": {
        "id": "M-54KoiP7HOH"
      },
      "source": [
        "The next cell will show the training results. If you used the model with defaults values of parameters and `test_overfitting=False`, training should have gone well. In this case, both the **train** and **cross-validation** losses should have sufficiently decreased during training. <br> If you had experimented **overfitting**, only the loss function on the training set should have decreased much more than the one into cross validation split. <br>\n",
        "In case of **underfitting** both the loss have decreased very few."
      ]
    },
    {
      "cell_type": "code",
      "execution_count": 15,
      "metadata": {
        "colab": {
          "base_uri": "https://localhost:8080/",
          "height": 467
        },
        "id": "9ySzwyPF0U6Y",
        "outputId": "8bb5c2c4-ca66-4b8e-f93f-91eb46e2d5d8"
      },
      "outputs": [
        {
          "data": {
            "text/plain": [
              "Text(0, 0.5, 'Loss')"
            ]
          },
          "execution_count": 15,
          "metadata": {},
          "output_type": "execute_result"
        },
        {
          "data": {
            "image/png": "[encoded data removed]",
            "text/plain": [
              "<Figure size 640x480 with 1 Axes>"
            ]
          },
          "metadata": {},
          "output_type": "display_data"
        }
      ],
      "source": [
        "# Preparation for plot. Moving losses from GPU to CPU (required by matplotlib) and converting them to list.\n",
        "if torch.is_tensor(train_loss_list[0]):\n",
        "   train_loss_list=[float(x.detach().cpu()) for x in train_loss_list]\n",
        "\n",
        "if torch.is_tensor(cv_loss_list[0]):\n",
        "   cv_loss_list=[float(x.detach().cpu()) for x in cv_loss_list]\n",
        "plt.plot(range(len(train_loss_list)), train_loss_list,'r')\n",
        "plt.plot(range(len(cv_loss_list)), cv_loss_list, 'g')\n",
        "plt.legend([\"train loss\", \"cv loss\"])\n",
        "plt.xlabel(\"Epochs\")\n",
        "plt.ylabel(\"Loss\")"
      ]
    },
    {
      "cell_type": "code",
      "execution_count": 16,
      "metadata": {
        "id": "W8uVHDFb69lU"
      },
      "outputs": [],
      "source": [
        "with open('losses.pkl', 'wb') as f:  # Python 3: open(..., 'wb')\n",
        "    pickle.dump([train_loss_list, cv_loss_list], f)"
      ]
    },
    {
      "cell_type": "markdown",
      "metadata": {
        "id": "GhEE5_xX6ph_"
      },
      "source": [
        "## 6.2 - Measuring accuracy on the test split"
      ]
    },
    {
      "cell_type": "markdown",
      "metadata": {
        "id": "2a9M5_3FFsdU"
      },
      "source": [
        "The next cell will measure the accuracy that the trained model achieves on the test split."
      ]
    },
    {
      "cell_type": "code",
      "execution_count": 17,
      "metadata": {
        "colab": {
          "base_uri": "https://localhost:8080/"
        },
        "id": "ORg7K-Cy2qtz",
        "outputId": "1fb3528d-5917-4951-ee53-accb713f7dbc"
      },
      "outputs": [
        {
          "name": "stderr",
          "output_type": "stream",
          "text": [
            "Test - Iteration:: 100%|██████████| 313/313 [00:01<00:00, 185.03it/s]\n"
          ]
        },
        {
          "name": "stdout",
          "output_type": "stream",
          "text": [
            "\u001b[1mTest accuracy[%]\u001b[1m: 80.4\n"
          ]
        }
      ],
      "source": [
        "# Set model to evaluation model (some layers, as dropout will change their behaviour)\n",
        "model.eval()\n",
        "\n",
        "# Number of correct predictions for test split\n",
        "test_correct = 0\n",
        "# Number of total predictions for test split\n",
        "test_total = 0\n",
        "\n",
        "# Prediction placeholders\n",
        "predictions=[]\n",
        "\n",
        "# Target placeholders\n",
        "targets=[]\n",
        "\n",
        "# Images placeholders\n",
        "images=[]\n",
        "\n",
        "# Moving model to GPU if CUDA is available.\n",
        "if torch.cuda.is_available():\n",
        "    model=model.cuda()\n",
        "\n",
        "# Evaluating model on the test split. Since we are not training, we do not need to calculate gradients.\n",
        "with torch.no_grad():\n",
        "    # Splitting cross-validation into batches.\n",
        "    for x_test_batch, y_test_batch in tqdm(test_loader, desc='Test - Iteration:'):\n",
        "        # Moving batches to GPU if CUDA is available.\n",
        "        if torch.cuda.is_available():\n",
        "            x_test_batch=x_test_batch.cuda()\n",
        "            y_test_batch=y_test_batch.cuda()\n",
        "\n",
        "        # Performing evaluation on the test split.\n",
        "        y_test_pred = model(x_test_batch)\n",
        "        # Extracting predicted class.\n",
        "        y_test_predicted_class =  torch.max(y_test_pred, 1)[1]\n",
        "        # Updating total and number of corrected patches\n",
        "        test_total += y_test_batch.size(0)\n",
        "        test_correct += (y_test_predicted_class == y_test_batch).sum().item()\n",
        "        # Stacking predictions, targets, and images.\n",
        "        predictions+=list(y_test_predicted_class)\n",
        "        targets+=list(y_test_batch)\n",
        "        images+=list(x_test_batch)\n",
        "    # Calculating the evaluation accuracy\n",
        "    test_accuracy = test_correct/test_total * 100\n",
        "\n",
        "print('\\033[1mTest accuracy[%]\\033[1m: ' +str(float(test_accuracy)))\n",
        "\n",
        "# Moving predictions, images and targets to CPU\n",
        "predictions=[x.detach().cpu().numpy() for x in predictions]\n",
        "targets=[x.detach().cpu().numpy() for x in targets]\n",
        "images=[x.detach().cpu().numpy() for x in images]\n"
      ]
    },
    {
      "cell_type": "markdown",
      "metadata": {
        "id": "GZGdO5hyGqsk"
      },
      "source": [
        "## 6.3 - Show predictions on random images"
      ]
    },
    {
      "cell_type": "markdown",
      "metadata": {
        "id": "8eNHz3fNGq7J"
      },
      "source": [
        "The next cell will take randome examples from the test split and showcases the predicted class (**predicted**) versus the (**expected**) class. <br> This is done through the `plot_random_samples` included in the `utils.py` file.\n",
        "If you have set `test_overfitting` to `True`, you will see the model will be in general capable to predict correctly all the classes but `8` and `9`."
      ]
    },
    {
      "cell_type": "code",
      "execution_count": 18,
      "metadata": {
        "id": "_aoBnbC9ICmy"
      },
      "outputs": [],
      "source": [
        "import matplotlib.pyplot as plt\n",
        "def plot_samples(samples, targets, predictions):\n",
        "  fig, axes = plt.subplots(1, 5, figsize=(10, 2))\n",
        "  for i, ax in enumerate(axes):\n",
        "    sample = samples[i].reshape(28, 28) # Reshape to (28, 28)\n",
        "    ax.imshow(sample, cmap='gray')\n",
        "    ax.set_title(f'True: {targets[i]} | Pred: {predictions[i]}')\n",
        "    ax.axis('off')\n",
        "    plt.tight_layout()"
      ]
    },
    {
      "cell_type": "code",
      "execution_count": 19,
      "metadata": {
        "colab": {
          "base_uri": "https://localhost:8080/",
          "height": 207
        },
        "id": "sCFOZrTqIPzH",
        "outputId": "ee972485-159a-4cd7-e37d-b339fb606ba7"
      },
      "outputs": [
        {
          "data": {
            "image/png": "[encoded data removed]",
            "text/plain": [
              "<Figure size 1000x200 with 5 Axes>"
            ]
          },
          "metadata": {},
          "output_type": "display_data"
        }
      ],
      "source": [
        "plot_samples(images, targets, predictions)"
      ]
    },
    {
      "cell_type": "code",
      "execution_count": null,
      "metadata": {
        "id": "jF7RI90QlToq"
      },
      "outputs": [],
      "source": []
    }
  ],
  "metadata": {
    "accelerator": "GPU",
    "colab": {
      "gpuType": "T4",
      "provenance": []
    },
    "kernelspec": {
      "display_name": ".venv",
      "language": "python",
      "name": "python3"
    },
    "language_info": {
      "codemirror_mode": {
        "name": "ipython",
        "version": 3
      },
      "file_extension": ".py",
      "mimetype": "text/x-python",
      "name": "python",
      "nbconvert_exporter": "python",
      "pygments_lexer": "ipython3",
      "version": "3.12.8"
    }
  },
  "nbformat": 4,
  "nbformat_minor": 0
}
