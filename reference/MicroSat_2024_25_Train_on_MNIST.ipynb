{
  "cells": [
    {
      "cell_type": "markdown",
      "metadata": {
        "id": "8V-uUfu6n20n"
      },
      "source": [
        "# Train on MNIST - Example"
      ]
    },
    {
      "cell_type": "markdown",
      "metadata": {
        "id": "T4_shxNsxOW4"
      },
      "source": [
        "This notebook is used to implement the training of a neural network for the [\"MNIST (\"Modified National Institute of Standards and Technology\")](http://yann.lecun.com/exdb/mnist/index.html) dataset. <br> To train our network, we use [PyTorch](https://pytorch.org/). <br> PyTorch implements a suit that allows you to implement a neural network and the backpropagation algorithm easily. <br>\n",
        "For aximum performance, we suggest to switch the computing resources to `GPU`. You can do that by clicking on the arrow on top-right of the screen, then `change runtype time`, and finally `T4 GPU`."
      ]
    },
    {
      "cell_type": "markdown",
      "metadata": {
        "id": "BayGv92FeGJQ"
      },
      "source": [
        "The next celll will install [torchvision](https://pytorch.org/vision/stable/index.html), which is needed to download and manage the MNIST dataset."
      ]
    },
    {
      "cell_type": "code",
      "execution_count": 1,
      "metadata": {
        "colab": {
          "base_uri": "https://localhost:8080/"
        },
        "id": "Uv6autZ4n4a5",
        "outputId": "69029850-34ab-4096-f0d2-ba222afbe4d6"
      },
      "outputs": [
        {
          "name": "stdout",
          "output_type": "stream",
          "text": [
            "Requirement already satisfied: torch in /usr/local/lib/python3.10/dist-packages (2.5.1+cu121)\n",
            "Requirement already satisfied: torchvision in /usr/local/lib/python3.10/dist-packages (0.20.1+cu121)\n",
            "Requirement already satisfied: filelock in /usr/local/lib/python3.10/dist-packages (from torch) (3.16.1)\n",
            "Requirement already satisfied: typing-extensions>=4.8.0 in /usr/local/lib/python3.10/dist-packages (from torch) (4.12.2)\n",
            "Requirement already satisfied: networkx in /usr/local/lib/python3.10/dist-packages (from torch) (3.4.2)\n",
            "Requirement already satisfied: jinja2 in /usr/local/lib/python3.10/dist-packages (from torch) (3.1.4)\n",
            "Requirement already satisfied: fsspec in /usr/local/lib/python3.10/dist-packages (from torch) (2024.10.0)\n",
            "Requirement already satisfied: sympy==1.13.1 in /usr/local/lib/python3.10/dist-packages (from torch) (1.13.1)\n",
            "Requirement already satisfied: mpmath<1.4,>=1.1.0 in /usr/local/lib/python3.10/dist-packages (from sympy==1.13.1->torch) (1.3.0)\n",
            "Requirement already satisfied: numpy in /usr/local/lib/python3.10/dist-packages (from torchvision) (1.26.4)\n",
            "Requirement already satisfied: pillow!=8.3.*,>=5.3.0 in /usr/local/lib/python3.10/dist-packages (from torchvision) (11.0.0)\n",
            "Requirement already satisfied: MarkupSafe>=2.0 in /usr/local/lib/python3.10/dist-packages (from jinja2->torch) (3.0.2)\n"
          ]
        }
      ],
      "source": [
        "!pip install torch torchvision"
      ]
    },
    {
      "cell_type": "markdown",
      "metadata": {
        "id": "Nma_JWh-W-IF"
      },
      "source": [
        "## 1. - Imports"
      ]
    },
    {
      "cell_type": "markdown",
      "metadata": {
        "id": "5fCEDCU_qrC0"
      },
      "source": [
        "Enabling autoreload of different packages."
      ]
    },
    {
      "cell_type": "code",
      "execution_count": 2,
      "metadata": {
        "id": "38QZieHiyZOK"
      },
      "outputs": [],
      "source": [
        "%load_ext autoreload\n",
        "%autoreload 2"
      ]
    },
    {
      "cell_type": "markdown",
      "metadata": {
        "id": "GJBs_flRovLc"
      },
      "source": [
        "### 1.1 Assignment imports"
      ]
    },
    {
      "cell_type": "code",
      "execution_count": 3,
      "metadata": {
        "id": "-EQlMgLSyfzd"
      },
      "outputs": [],
      "source": [
        "import matplotlib.pyplot as plt\n",
        "import pickle\n",
        "import torch\n",
        "import torch.nn as nn\n",
        "import torch.nn.functional as F\n",
        "from sklearn.model_selection import train_test_split\n",
        "from torch.utils.data import DataLoader\n",
        "from torchvision import datasets, transforms\n",
        "from tqdm import tqdm"
      ]
    },
    {
      "cell_type": "markdown",
      "metadata": {
        "id": "ZRKvCr7wz5yd"
      },
      "source": [
        "## 2. - Datasets"
      ]
    },
    {
      "cell_type": "markdown",
      "metadata": {
        "id": "SOleOYbeBSC4"
      },
      "source": [
        "### 2.1 - Loading MNIST dataset"
      ]
    },
    {
      "cell_type": "markdown",
      "metadata": {
        "id": "AB2i_MUd0rrj"
      },
      "source": [
        "We now download load the dataset into 2 splits (`Train` and `Test`)."
      ]
    },
    {
      "cell_type": "code",
      "execution_count": 4,
      "metadata": {
        "colab": {
          "base_uri": "https://localhost:8080/"
        },
        "id": "Qv20ur2D0BIj",
        "outputId": "876c87b0-0f2b-474e-dffc-d5b21fd5f1c0"
      },
      "outputs": [
        {
          "name": "stdout",
          "output_type": "stream",
          "text": [
            "Downloading http://yann.lecun.com/exdb/mnist/train-images-idx3-ubyte.gz\n",
            "Failed to download (trying next):\n",
            "HTTP Error 403: Forbidden\n",
            "\n",
            "Downloading https://ossci-datasets.s3.amazonaws.com/mnist/train-images-idx3-ubyte.gz\n",
            "Downloading https://ossci-datasets.s3.amazonaws.com/mnist/train-images-idx3-ubyte.gz to ../data/MNIST/raw/train-images-idx3-ubyte.gz\n"
          ]
        },
        {
          "name": "stderr",
          "output_type": "stream",
          "text": [
            "100%|██████████| 9.91M/9.91M [00:00<00:00, 16.0MB/s]\n"
          ]
        },
        {
          "name": "stdout",
          "output_type": "stream",
          "text": [
            "Extracting ../data/MNIST/raw/train-images-idx3-ubyte.gz to ../data/MNIST/raw\n",
            "\n",
            "Downloading http://yann.lecun.com/exdb/mnist/train-labels-idx1-ubyte.gz\n",
            "Failed to download (trying next):\n",
            "HTTP Error 403: Forbidden\n",
            "\n",
            "Downloading https://ossci-datasets.s3.amazonaws.com/mnist/train-labels-idx1-ubyte.gz\n",
            "Downloading https://ossci-datasets.s3.amazonaws.com/mnist/train-labels-idx1-ubyte.gz to ../data/MNIST/raw/train-labels-idx1-ubyte.gz\n"
          ]
        },
        {
          "name": "stderr",
          "output_type": "stream",
          "text": [
            "100%|██████████| 28.9k/28.9k [00:00<00:00, 485kB/s]\n"
          ]
        },
        {
          "name": "stdout",
          "output_type": "stream",
          "text": [
            "Extracting ../data/MNIST/raw/train-labels-idx1-ubyte.gz to ../data/MNIST/raw\n",
            "\n",
            "Downloading http://yann.lecun.com/exdb/mnist/t10k-images-idx3-ubyte.gz\n",
            "Failed to download (trying next):\n",
            "HTTP Error 403: Forbidden\n",
            "\n",
            "Downloading https://ossci-datasets.s3.amazonaws.com/mnist/t10k-images-idx3-ubyte.gz\n",
            "Downloading https://ossci-datasets.s3.amazonaws.com/mnist/t10k-images-idx3-ubyte.gz to ../data/MNIST/raw/t10k-images-idx3-ubyte.gz\n"
          ]
        },
        {
          "name": "stderr",
          "output_type": "stream",
          "text": [
            "100%|██████████| 1.65M/1.65M [00:00<00:00, 4.44MB/s]\n"
          ]
        },
        {
          "name": "stdout",
          "output_type": "stream",
          "text": [
            "Extracting ../data/MNIST/raw/t10k-images-idx3-ubyte.gz to ../data/MNIST/raw\n",
            "\n",
            "Downloading http://yann.lecun.com/exdb/mnist/t10k-labels-idx1-ubyte.gz\n",
            "Failed to download (trying next):\n",
            "HTTP Error 403: Forbidden\n",
            "\n",
            "Downloading https://ossci-datasets.s3.amazonaws.com/mnist/t10k-labels-idx1-ubyte.gz\n",
            "Downloading https://ossci-datasets.s3.amazonaws.com/mnist/t10k-labels-idx1-ubyte.gz to ../data/MNIST/raw/t10k-labels-idx1-ubyte.gz\n"
          ]
        },
        {
          "name": "stderr",
          "output_type": "stream",
          "text": [
            "100%|██████████| 4.54k/4.54k [00:00<00:00, 9.53MB/s]"
          ]
        },
        {
          "name": "stdout",
          "output_type": "stream",
          "text": [
            "Extracting ../data/MNIST/raw/t10k-labels-idx1-ubyte.gz to ../data/MNIST/raw\n",
            "\n"
          ]
        },
        {
          "name": "stderr",
          "output_type": "stream",
          "text": [
            "\n"
          ]
        }
      ],
      "source": [
        "# Train split\n",
        "train_MNIST = datasets.MNIST('../data', train=True, download=True,\n",
        "                   transform=transforms.Compose([\n",
        "                       transforms.ToTensor()\n",
        "                   ]))\n",
        "# Test split\n",
        "test_MNIST = datasets.MNIST('../data', train=False, transform=transforms.Compose([\n",
        "                       transforms.ToTensor(),\n",
        "                   ]))"
      ]
    },
    {
      "cell_type": "markdown",
      "metadata": {
        "id": "QlN1Md3nBoJ-"
      },
      "source": [
        "### 3.2 - Splitting Train into Train and Cross Validation"
      ]
    },
    {
      "cell_type": "markdown",
      "metadata": {
        "id": "F7xOMuY9Bt2C"
      },
      "source": [
        "As discussed in the lecture slides, to train the model correctly we split the entire MNIST dataset into three splits to train our model:\n",
        "* **Train** : 71.43%\n",
        "* **Cross-Validation** : 14.23%\n",
        "* **Test**: 14.23% <br>\n",
        "\n",
        "You can also change the train/cross-validation percentage by changing the value of `cv_percentage` from its default value (`0.1666540669186616`). <br> <br>\n",
        "It is also possible to test a wrong splitting that leads to **overfitting**. Ovefitting occurs when the model fits the training split too tightly that is not able to generalize on the validation and test splits. To virtually creating overfitting, set the flag `test_overfitting` to `True`. If you do that, we will split the dataset so that all the images containing a `8` or a `9` will be not included in the training but in the cross-validation. In this condition, the model will be able to learn the data in the training set quite well. However, it will be not able to classify correctly the images containing `8` or a `9` since it did not see them during training. This is similar to the experience that  students might face when the explanations given in class do not cover topics requested in their homework. Overfitting is not only due to mistmatches between the data distributions of training and other splits. Later you will find a more detailed explanation about this problem.  \n",
        "<br>\n",
        "If you want to experiment **underfitting**, set `test_overfitting` to `False` and  increase the value of `cv_precentage` from its default value to `0.95`. This will significantly increase the size of the **cross validation split** at detriment of the **train split**, which will be strongly reduced.  In this condition, the model has so few data available for training that is not able to learn at all. <br> This is similar to the condition that students face when the explanation provided by tutor is so poor that they are not even able to reproduce the exercises done during the lesson. <br> I hope this is not the case for you :)."
      ]
    },
    {
      "cell_type": "code",
      "execution_count": 5,
      "metadata": {
        "id": "Zlw-38ac73tA"
      },
      "outputs": [],
      "source": [
        "# CV percentage (ignored if test_overfitting == True)\n",
        "cv_percentage=0.1666540669186616"
      ]
    },
    {
      "cell_type": "markdown",
      "metadata": {
        "id": "8gphZFCT8gSf"
      },
      "source": [
        "We are now randomly splitting `train_MNIST` into `train_MNIST` and `cv_MNIST` with the requested percentages."
      ]
    },
    {
      "cell_type": "code",
      "execution_count": 6,
      "metadata": {
        "id": "Ble4xYM9CU7q"
      },
      "outputs": [],
      "source": [
        "# Stacking tuples into a single list\n",
        "train_MNIST_list = []\n",
        "train_MNIST_list = [train_MNIST_list + list(x) for x in train_MNIST]\n",
        "\n",
        "# Creating random splits with the requested percentage\n",
        "train_idx, valid_idx = train_test_split(list(range(60000)), test_size=(cv_percentage))\n",
        "# Creating Valid\n",
        "cv_MNIST = [train_MNIST_list[x] for x in valid_idx]\n",
        "# Creating Train\n",
        "train_MNIST = [train_MNIST_list[x] for x in train_idx]"
      ]
    },
    {
      "cell_type": "markdown",
      "metadata": {
        "id": "SIu2eewv0qsH"
      },
      "source": [
        "## 3 - Creating a model"
      ]
    },
    {
      "cell_type": "markdown",
      "metadata": {
        "id": "PuWZYZhV9pg6"
      },
      "source": [
        "We now create a custom **Convolutional Neural Network (CNN)**. The network is created and designed **from scratch** for the sake of providing an example. <br> However, in real life, this might not be the best idea. [Here](https://paperswithcode.com/sota/image-classification-on-imagenet) you can see the benchmark among different models on the [ImageNet](https://www.image-net.org/), a very complex benchmark dataset for image classification. <br>\n",
        "In general, it is also possible to start from a **pretrained model**, i.e., a model that was already trained on another dataset (typically, `ImageNet`) to leverage preliminary `knowledge` that a network acquired on another dataset, which can be particularly useful when few training examples are available. <br> In our example, the network is custom and not pretrained."
      ]
    },
    {
      "cell_type": "code",
      "execution_count": 7,
      "metadata": {
        "id": "7C5_yanr1oHp"
      },
      "outputs": [],
      "source": [
        "class CNNNet(nn.Module):\n",
        "    #This defines the structure of the NN.\n",
        "    def __init__(self):\n",
        "        super(CNNNet, self).__init__()\n",
        "        # Convolutional layer (1 input channel, 25 output-channels, 5x5 kernels)\n",
        "        self.conv1 = nn.Conv2d(1, 25, kernel_size=5)\n",
        "        # Convolutional layer (25 input channel, 100 output-channels, 5x5 k.)\n",
        "        self.conv2 = nn.Conv2d(25, 100, kernel_size=5)\n",
        "        # Dropout - This layer is used to remove unnecessary neurons.\n",
        "        self.conv2_drop = nn.Dropout2d()\n",
        "        # Convolutional layer (100 input channel, 25 output-channels, 3x3 k.)\n",
        "        self.conv3 = nn.Conv2d(100, 25, kernel_size=3)\n",
        "        # Average pooling - Spatial average of the pixels\n",
        "        self.avg_pool = torch.nn.AvgPool2d(2)\n",
        "        # Fully connected layer\n",
        "        self.fc2 = nn.Linear(25, 10)\n",
        "\n",
        "    # Describes how the network behave\n",
        "    def forward(self, x):\n",
        "\n",
        "        y = self.conv1(x)\n",
        "        # Pooling layers - selects the max between 2 neurons\n",
        "        y = F.max_pool2d(y,2)\n",
        "        # Relu - Activation function\n",
        "        y = F.relu(y)\n",
        "        # Convolutional layer (10 input channel, 50 output-channels, 5x5 k.)\n",
        "        y = self.conv2(y)\n",
        "        # Dropout\n",
        "        y = self.conv2_drop(y)\n",
        "        # Pooling layers - selects the max between 2 neurons\n",
        "        y = F.max_pool2d(y,2)\n",
        "        # Relu - Activation function\n",
        "        y = F.relu(y)\n",
        "        # Convolutional layer\n",
        "        y = self.conv3(y)\n",
        "        # Relu - Activation function\n",
        "        y = F.relu(y)\n",
        "        # Convolutional layer\n",
        "        y = self.avg_pool(y)\n",
        "        # Fully connected layer\n",
        "        # Squeeze is needed because fc2 requires\n",
        "        # a 2D tensor.\n",
        "        y = self.fc2(y.squeeze(-1).squeeze(-1))\n",
        "        # Applying Softmax\n",
        "        p_c = F.log_softmax(y, dim=1)\n",
        "        return p_c"
      ]
    },
    {
      "cell_type": "markdown",
      "metadata": {
        "id": "iKEsY4ApzRHD"
      },
      "source": [
        "We create an instance of our network."
      ]
    },
    {
      "cell_type": "code",
      "execution_count": 8,
      "metadata": {
        "id": "emzBWMd_-4u1"
      },
      "outputs": [],
      "source": [
        "model = CNNNet()"
      ]
    },
    {
      "cell_type": "markdown",
      "metadata": {
        "id": "nZVvxHJj_DSy"
      },
      "source": [
        "## 4 - Preparing for training - Setting Hyperparameters"
      ]
    },
    {
      "cell_type": "markdown",
      "metadata": {
        "id": "LWboeHcHc1GO"
      },
      "source": [
        "Weights and biases in a model are called **parameters**, which are actually learned by the model during training. However, there are other tunable variables such as the number of neurons in a layer, the size of a kernel, and others that are not directly learned by the network but whose values can affect training. Such variables are called **hyperparameters**. Some of the hyperparameters, such as the number of epochs and learning rate, will be now explained and set."
      ]
    },
    {
      "cell_type": "markdown",
      "metadata": {
        "id": "NpKYC9gh_XDR"
      },
      "source": [
        "### 4.1 - Setting Cross-entropy loss."
      ]
    },
    {
      "cell_type": "markdown",
      "metadata": {
        "id": "wzmu-fek_Zbc"
      },
      "source": [
        "To train the model, we use [Categorical Cross-entropy](https://pytorch.org/docs/stable/generated/torch.nn.CrossEntropyLoss.html) loss, as specified by the next cell."
      ]
    },
    {
      "cell_type": "code",
      "execution_count": 9,
      "metadata": {
        "id": "sAJYfyXO_Ree"
      },
      "outputs": [],
      "source": [
        "loss = nn.CrossEntropyLoss()"
      ]
    },
    {
      "cell_type": "markdown",
      "metadata": {
        "id": "tPtLQZwe_zlw"
      },
      "source": [
        "4.2 - Selecting number of epochs and batch size."
      ]
    },
    {
      "cell_type": "markdown",
      "metadata": {
        "id": "Biskgzvk_2Py"
      },
      "source": [
        "We are going to select:\n",
        "* `number of epochs`: number of epochs specify how many times the entire dataset is seen by the model during training. Increasing the number of epochs typically leads the model to learn better the training dataset (i.e., to lower loss values in the training set). However, this is not necessarily a positive thing given the risk of **overfitting** the dataset. **Try to play with the number of epochs to see the impact in training.**\n",
        "\n",
        "* `batch size`: In the lesson slides, we have calculated the loss over the entire dataset (whose number is called `N`). When the input data are images, it is typically impossible to provide the entire dataset as input to the model in a single pass because of GPU/CPU memory limitations. Therefore, each epoch is therefore divided into a certain number of `iterations`, during which the loss function is calculated on a reduced number of samples (`batch`). The `batch size` is, of course, the size of batches. Typically, the `batch size` is a power of 2 to allow for better computational performances (better optimization to computing hardware). <br> The choice on the `batch size` typically influences both the training time and the model accuracy.  **Higher batch sizes** allow for:\n",
        "    *  **higher computational performances**: because of the higher parallization (as far as they fit into your hardware memory and your hardware can profit of it).\n",
        "    *  **lower convergence** (so, not necessarily a faster training in the end):  high batch size means lower number of batches and, therefore, lower number of updates.\n",
        "    *  **more robust toward noise and fluctuations**: because the loss is evaluated on a higher number of samples, so the averaging effect is stronger.\n",
        "    *  **higher overfitting**: the noise due to batching acts as a regularization agent during the training reducing overfitting. Such noise is reduced because of the stronger averaging effect, diminishing the regularization effect."
      ]
    },
    {
      "cell_type": "code",
      "execution_count": 10,
      "metadata": {
        "id": "VjIhY9K6_geQ"
      },
      "outputs": [],
      "source": [
        "# Number of epochs\n",
        "n_epochs = 10\n",
        "# Batch size\n",
        "batch_size=32"
      ]
    },
    {
      "cell_type": "markdown",
      "metadata": {
        "id": "WM1mEs3ZAtlx"
      },
      "source": [
        "### 4.2 - Create dataloaders."
      ]
    },
    {
      "cell_type": "markdown",
      "metadata": {
        "id": "Bsn-c15wAy1f"
      },
      "source": [
        "To break your dataset into `batch` of size `batch_size`, PyTorch provides a construct called [data loader](https://www.educative.io/answers/what-is-pytorch-dataloader).<br> As previously mentioned, this is useful to ensure that your dataset will fit into your memory and to create a \"stochastic\" implementation of gradient descent. <br>"
      ]
    },
    {
      "cell_type": "code",
      "execution_count": 11,
      "metadata": {
        "id": "6RiCKFMPAyLe"
      },
      "outputs": [],
      "source": [
        "# Train loader\n",
        "train_loader = DataLoader(train_MNIST, batch_size=batch_size, pin_memory=False, shuffle=True)\n",
        "# Cross validation data loader\n",
        "valid_loader = DataLoader(cv_MNIST, batch_size=batch_size, pin_memory=False, shuffle=True)\n",
        "# Test data loader\n",
        "test_loader = DataLoader(test_MNIST, batch_size=batch_size, pin_memory=False, shuffle=True)"
      ]
    },
    {
      "cell_type": "markdown",
      "metadata": {
        "id": "X7zTkwuoHNOX"
      },
      "source": [
        "### 4.3 -  Selecting Training optimizer"
      ]
    },
    {
      "cell_type": "markdown",
      "metadata": {
        "id": "uRRMv_RdHaY6"
      },
      "source": [
        "To train the model we are now selecting [SGD](https://pytorch.org/docs/stable/generated/torch.optim.SGD.html) optimizer, which means `Stochastic Gradient Descent`. <br> You can think of optimizers as rules that specify how to update parameters. Different optimers lead to different weights for the same model, data and loss function. There is not a specific rule on how to select an optimizer. You can find more information on optimizers [here](https://pytorch.org/docs/stable/optim.html) is popular for its performance/memory-efficiency trade-offs. <br> The **learning rate** (`lr`) is a scale-factor hyperparameter that determines the step-size in updating your model parameters. During training, you want to minimize the loss function, which means reaching the minimum with a fixed step size. The **learning rate** is the size of your step, If your step is too big, you might end-up missing the minimum and jumping over the minimum. However, if your step is too small, your training time will be very long and the risk to get stuck in local minima is very high."
      ]
    },
    {
      "cell_type": "code",
      "execution_count": 12,
      "metadata": {
        "id": "pUDcRiCtHHB4"
      },
      "outputs": [],
      "source": [
        "# Optimizer\n",
        "optimizer = torch.optim.SGD(model.parameters(), lr=0.0005)"
      ]
    },
    {
      "cell_type": "markdown",
      "metadata": {
        "id": "NSL7vH-WIO3l"
      },
      "source": [
        "## 5 - Train"
      ]
    },
    {
      "cell_type": "markdown",
      "metadata": {
        "id": "BItaHAzsIR-m"
      },
      "source": [
        "In the next cell, we start the training of our model.\n",
        "During the training we log the `train_loss` and the `evaluation_loss` to be able to monitor the outcome of training after training. <br>  Training of deep neural networks is typically  a slow processes. Because of that, it is possible to skip the training process by loading the trained model and the values of the loss from files to save you some time. To this aim, set the flag `skip_train` to `True` in the next cell. <br> However, it could be useful to you to try change some of the parameters (e.g., `cv_percentage`, `nr_of_epochs`) to see their impact on training results."
      ]
    },
    {
      "cell_type": "code",
      "execution_count": 13,
      "metadata": {
        "id": "w7MnQ-b73Ein"
      },
      "outputs": [],
      "source": [
        "skip_training=False"
      ]
    },
    {
      "cell_type": "markdown",
      "metadata": {
        "id": "l1ntScsg3B_9"
      },
      "source": [
        "If you have selected `skip_training=False`, training will be started. In addition to the loss values, we also print the `accuracy` on `train` and `cross_validation`. You should see the **losses decreasing** and **accuracies increasing** (as a trend) over the various epochs. <br> Please, notice that we are not trying to prevent overfitting in any way (except for Dropout layers). <br>"
      ]
    },
    {
      "cell_type": "code",
      "execution_count": 14,
      "metadata": {
        "colab": {
          "base_uri": "https://localhost:8080/"
        },
        "id": "sMbyG13MISNm",
        "outputId": "458f408d-7e93-451a-8b2b-e72fb0ffee6c"
      },
      "outputs": [
        {
          "name": "stderr",
          "output_type": "stream",
          "text": [
            "Epochs:   0%|          | 0/10 [00:00<?, ?it/s]\n",
            "Training - Iterations::   0%|          | 0/1563 [00:00<?, ?it/s]\u001b[A\n",
            "Training - Iterations::   0%|          | 1/1563 [00:01<33:32,  1.29s/it]\u001b[A\n",
            "Training - Iterations::   3%|▎         | 40/1563 [00:01<00:38, 39.54it/s]\u001b[A\n",
            "Training - Iterations::   5%|▌         | 79/1563 [00:01<00:17, 83.06it/s]\u001b[A\n",
            "Training - Iterations::   7%|▋         | 113/1563 [00:01<00:11, 121.64it/s]\u001b[A\n",
            "Training - Iterations::  10%|▉         | 153/1563 [00:01<00:08, 170.55it/s]\u001b[A\n",
            "Training - Iterations::  12%|█▏        | 194/1563 [00:01<00:06, 218.36it/s]\u001b[A\n",
            "Training - Iterations::  15%|█▌        | 235/1563 [00:01<00:05, 260.69it/s]\u001b[A\n",
            "Training - Iterations::  18%|█▊        | 277/1563 [00:01<00:04, 297.42it/s]\u001b[A\n",
            "Training - Iterations::  20%|██        | 320/1563 [00:02<00:03, 329.79it/s]\u001b[A\n",
            "Training - Iterations::  23%|██▎       | 361/1563 [00:02<00:03, 350.24it/s]\u001b[A\n",
            "Training - Iterations::  26%|██▌       | 403/1563 [00:02<00:03, 367.27it/s]\u001b[A\n",
            "Training - Iterations::  28%|██▊       | 444/1563 [00:02<00:03, 371.60it/s]\u001b[A\n",
            "Training - Iterations::  31%|███       | 484/1563 [00:02<00:02, 379.07it/s]\u001b[A\n",
            "Training - Iterations::  34%|███▎      | 524/1563 [00:02<00:02, 354.13it/s]\u001b[A\n",
            "Training - Iterations::  36%|███▌      | 562/1563 [00:02<00:02, 353.13it/s]\u001b[A\n",
            "Training - Iterations::  39%|███▊      | 602/1563 [00:02<00:02, 365.68it/s]\u001b[A\n",
            "Training - Iterations::  41%|████      | 642/1563 [00:02<00:02, 373.53it/s]\u001b[A\n",
            "Training - Iterations::  44%|████▎     | 683/1563 [00:03<00:02, 381.74it/s]\u001b[A\n",
            "Training - Iterations::  46%|████▋     | 723/1563 [00:03<00:02, 385.42it/s]\u001b[A\n",
            "Training - Iterations::  49%|████▉     | 764/1563 [00:03<00:02, 390.23it/s]\u001b[A\n",
            "Training - Iterations::  51%|█████▏    | 804/1563 [00:03<00:01, 387.56it/s]\u001b[A\n",
            "Training - Iterations::  54%|█████▍    | 844/1563 [00:03<00:01, 389.22it/s]\u001b[A\n",
            "Training - Iterations::  57%|█████▋    | 884/1563 [00:03<00:01, 391.17it/s]\u001b[A\n",
            "Training - Iterations::  59%|█████▉    | 924/1563 [00:03<00:01, 361.90it/s]\u001b[A\n",
            "Training - Iterations::  62%|██████▏   | 965/1563 [00:03<00:01, 373.26it/s]\u001b[A\n",
            "Training - Iterations::  64%|██████▍   | 1007/1563 [00:03<00:01, 386.09it/s]\u001b[A\n",
            "Training - Iterations::  67%|██████▋   | 1048/1563 [00:03<00:01, 392.87it/s]\u001b[A\n",
            "Training - Iterations::  70%|██████▉   | 1090/1563 [00:04<00:01, 400.52it/s]\u001b[A\n",
            "Training - Iterations::  72%|███████▏  | 1131/1563 [00:04<00:01, 403.08it/s]\u001b[A\n",
            "Training - Iterations::  75%|███████▌  | 1173/1563 [00:04<00:00, 405.22it/s]\u001b[A\n",
            "Training - Iterations::  78%|███████▊  | 1214/1563 [00:04<00:00, 404.05it/s]\u001b[A\n",
            "Training - Iterations::  80%|████████  | 1255/1563 [00:04<00:00, 400.98it/s]\u001b[A\n",
            "Training - Iterations::  83%|████████▎ | 1296/1563 [00:04<00:00, 389.89it/s]\u001b[A\n",
            "Training - Iterations::  85%|████████▌ | 1336/1563 [00:04<00:00, 369.96it/s]\u001b[A\n",
            "Training - Iterations::  88%|████████▊ | 1374/1563 [00:04<00:00, 370.00it/s]\u001b[A\n",
            "Training - Iterations::  91%|█████████ | 1415/1563 [00:04<00:00, 380.77it/s]\u001b[A\n",
            "Training - Iterations::  93%|█████████▎| 1457/1563 [00:05<00:00, 389.88it/s]\u001b[A\n",
            "Training - Iterations::  96%|█████████▌| 1497/1563 [00:05<00:00, 374.30it/s]\u001b[A\n",
            "Training - Iterations:: 100%|██████████| 1563/1563 [00:05<00:00, 286.79it/s]\n"
          ]
        },
        {
          "name": "stdout",
          "output_type": "stream",
          "text": [
            "Evaluating model at epoch: 0.\n"
          ]
        },
        {
          "name": "stderr",
          "output_type": "stream",
          "text": [
            "\n",
            "Evaluation - Iteration::   0%|          | 0/313 [00:00<?, ?it/s]\u001b[A\n",
            "Evaluation - Iteration::  24%|██▍       | 75/313 [00:00<00:00, 742.74it/s]\u001b[A\n",
            "Evaluation - Iteration::  48%|████▊     | 150/313 [00:00<00:00, 675.93it/s]\u001b[A\n",
            "Evaluation - Iteration::  70%|██████▉   | 218/313 [00:00<00:00, 633.75it/s]\u001b[A\n",
            "Evaluation - Iteration:: 100%|██████████| 313/313 [00:00<00:00, 687.74it/s]\n",
            "Epochs:  10%|█         | 1/10 [00:05<00:53,  5.93s/it]"
          ]
        },
        {
          "name": "stdout",
          "output_type": "stream",
          "text": [
            "\u001b[1mEpoch\u001b[1m: 0\n",
            "\u001b[1mTrain loss\u001b[1m: 2.306055784225464.\n",
            "\u001b[1mTrain accuracy[%]\u001b[1m: 13.152.\n",
            "\u001b[1mCross-validation loss\u001b[1m: 2.2585699558258057.\n",
            "\u001b[1mCross-validation accuracy[%]\u001b[1m: 10.66.\n"
          ]
        },
        {
          "name": "stderr",
          "output_type": "stream",
          "text": [
            "\n",
            "Training - Iterations::   0%|          | 0/1563 [00:00<?, ?it/s]\u001b[A\n",
            "Training - Iterations::   2%|▏         | 33/1563 [00:00<00:04, 321.73it/s]\u001b[A\n",
            "Training - Iterations::   4%|▍         | 66/1563 [00:00<00:04, 303.16it/s]\u001b[A\n",
            "Training - Iterations::   6%|▋         | 99/1563 [00:00<00:04, 313.96it/s]\u001b[A\n",
            "Training - Iterations::   8%|▊         | 131/1563 [00:00<00:04, 313.03it/s]\u001b[A\n",
            "Training - Iterations::  11%|█         | 166/1563 [00:00<00:04, 325.33it/s]\u001b[A\n",
            "Training - Iterations::  13%|█▎        | 201/1563 [00:00<00:04, 331.80it/s]\u001b[A\n",
            "Training - Iterations::  15%|█▌        | 235/1563 [00:00<00:04, 288.46it/s]\u001b[A\n",
            "Training - Iterations::  17%|█▋        | 265/1563 [00:00<00:04, 277.32it/s]\u001b[A\n",
            "Training - Iterations::  19%|█▉        | 299/1563 [00:00<00:04, 294.11it/s]\u001b[A\n",
            "Training - Iterations::  21%|██        | 330/1563 [00:01<00:04, 292.44it/s]\u001b[A\n",
            "Training - Iterations::  23%|██▎       | 360/1563 [00:01<00:04, 291.13it/s]\u001b[A\n",
            "Training - Iterations::  25%|██▍       | 390/1563 [00:01<00:04, 291.90it/s]\u001b[A\n",
            "Training - Iterations::  27%|██▋       | 422/1563 [00:01<00:03, 298.74it/s]\u001b[A\n",
            "Training - Iterations::  29%|██▉       | 455/1563 [00:01<00:03, 307.59it/s]\u001b[A\n",
            "Training - Iterations::  31%|███       | 486/1563 [00:01<00:03, 305.98it/s]\u001b[A\n",
            "Training - Iterations::  33%|███▎      | 517/1563 [00:01<00:03, 301.27it/s]\u001b[A\n",
            "Training - Iterations::  35%|███▌      | 548/1563 [00:01<00:03, 300.48it/s]\u001b[A\n",
            "Training - Iterations::  37%|███▋      | 579/1563 [00:01<00:03, 299.75it/s]\u001b[A\n",
            "Training - Iterations::  39%|███▉      | 611/1563 [00:02<00:03, 303.10it/s]\u001b[A\n",
            "Training - Iterations::  41%|████      | 644/1563 [00:02<00:02, 308.39it/s]\u001b[A\n",
            "Training - Iterations::  43%|████▎     | 675/1563 [00:02<00:02, 304.71it/s]\u001b[A\n",
            "Training - Iterations::  45%|████▌     | 706/1563 [00:02<00:02, 302.28it/s]\u001b[A\n",
            "Training - Iterations::  48%|████▊     | 746/1563 [00:02<00:02, 329.33it/s]\u001b[A\n",
            "Training - Iterations::  50%|█████     | 785/1563 [00:02<00:02, 345.26it/s]\u001b[A\n",
            "Training - Iterations::  53%|█████▎    | 825/1563 [00:02<00:02, 360.73it/s]\u001b[A\n",
            "Training - Iterations::  55%|█████▌    | 862/1563 [00:02<00:01, 352.09it/s]\u001b[A\n",
            "Training - Iterations::  58%|█████▊    | 902/1563 [00:02<00:01, 365.73it/s]\u001b[A\n",
            "Training - Iterations::  60%|██████    | 942/1563 [00:02<00:01, 373.40it/s]\u001b[A\n",
            "Training - Iterations::  63%|██████▎   | 984/1563 [00:03<00:01, 385.32it/s]\u001b[A\n",
            "Training - Iterations::  66%|██████▌   | 1025/1563 [00:03<00:01, 390.28it/s]\u001b[A\n",
            "Training - Iterations::  68%|██████▊   | 1067/1563 [00:03<00:01, 397.12it/s]\u001b[A\n",
            "Training - Iterations::  71%|███████   | 1107/1563 [00:03<00:01, 397.73it/s]\u001b[A\n",
            "Training - Iterations::  73%|███████▎  | 1147/1563 [00:03<00:01, 395.78it/s]\u001b[A\n",
            "Training - Iterations::  76%|███████▌  | 1187/1563 [00:03<00:00, 388.92it/s]\u001b[A\n",
            "Training - Iterations::  78%|███████▊  | 1226/1563 [00:03<00:00, 379.01it/s]\u001b[A\n",
            "Training - Iterations::  81%|████████  | 1264/1563 [00:03<00:00, 364.07it/s]\u001b[A\n",
            "Training - Iterations::  83%|████████▎ | 1305/1563 [00:03<00:00, 376.48it/s]\u001b[A\n",
            "Training - Iterations::  86%|████████▌ | 1343/1563 [00:04<00:00, 370.27it/s]\u001b[A\n",
            "Training - Iterations::  89%|████████▊ | 1384/1563 [00:04<00:00, 381.26it/s]\u001b[A\n",
            "Training - Iterations::  91%|█████████ | 1423/1563 [00:04<00:00, 383.77it/s]\u001b[A\n",
            "Training - Iterations::  94%|█████████▎| 1462/1563 [00:04<00:00, 384.68it/s]\u001b[A\n",
            "Training - Iterations::  96%|█████████▌| 1501/1563 [00:04<00:00, 386.14it/s]\u001b[A\n",
            "Training - Iterations:: 100%|██████████| 1563/1563 [00:04<00:00, 342.96it/s]\n"
          ]
        },
        {
          "name": "stdout",
          "output_type": "stream",
          "text": [
            "Evaluating model at epoch: 1.\n"
          ]
        },
        {
          "name": "stderr",
          "output_type": "stream",
          "text": [
            "\n",
            "Evaluation - Iteration::   0%|          | 0/313 [00:00<?, ?it/s]\u001b[A\n",
            "Evaluation - Iteration::  26%|██▌       | 80/313 [00:00<00:00, 799.46it/s]\u001b[A\n",
            "Evaluation - Iteration::  51%|█████     | 160/313 [00:00<00:00, 789.56it/s]\u001b[A\n",
            "Evaluation - Iteration:: 100%|██████████| 313/313 [00:00<00:00, 817.68it/s]\n",
            "Epochs:  20%|██        | 2/10 [00:10<00:42,  5.36s/it]"
          ]
        },
        {
          "name": "stdout",
          "output_type": "stream",
          "text": [
            "\u001b[1mEpoch\u001b[1m: 1\n",
            "\u001b[1mTrain loss\u001b[1m: 2.2673799991607666.\n",
            "\u001b[1mTrain accuracy[%]\u001b[1m: 17.774.\n",
            "\u001b[1mCross-validation loss\u001b[1m: 2.260172128677368.\n",
            "\u001b[1mCross-validation accuracy[%]\u001b[1m: 28.449999999999996.\n"
          ]
        },
        {
          "name": "stderr",
          "output_type": "stream",
          "text": [
            "\n",
            "Training - Iterations::   0%|          | 0/1563 [00:00<?, ?it/s]\u001b[A\n",
            "Training - Iterations::   3%|▎         | 43/1563 [00:00<00:03, 421.82it/s]\u001b[A\n",
            "Training - Iterations::   6%|▌         | 86/1563 [00:00<00:03, 407.22it/s]\u001b[A\n",
            "Training - Iterations::   8%|▊         | 127/1563 [00:00<00:03, 405.66it/s]\u001b[A\n",
            "Training - Iterations::  11%|█         | 168/1563 [00:00<00:03, 399.65it/s]\u001b[A\n",
            "Training - Iterations::  13%|█▎        | 210/1563 [00:00<00:03, 404.85it/s]\u001b[A\n",
            "Training - Iterations::  16%|█▌        | 251/1563 [00:00<00:03, 397.83it/s]\u001b[A\n",
            "Training - Iterations::  19%|█▊        | 291/1563 [00:00<00:03, 386.42it/s]\u001b[A\n",
            "Training - Iterations::  21%|██        | 330/1563 [00:00<00:03, 373.19it/s]\u001b[A\n",
            "Training - Iterations::  24%|██▎       | 370/1563 [00:00<00:03, 379.99it/s]\u001b[A\n",
            "Training - Iterations::  26%|██▌       | 409/1563 [00:01<00:03, 381.78it/s]\u001b[A\n",
            "Training - Iterations::  29%|██▉       | 450/1563 [00:01<00:02, 388.86it/s]\u001b[A\n",
            "Training - Iterations::  31%|███▏      | 492/1563 [00:01<00:02, 395.64it/s]\u001b[A\n",
            "Training - Iterations::  34%|███▍      | 532/1563 [00:01<00:02, 395.37it/s]\u001b[A\n",
            "Training - Iterations::  37%|███▋      | 572/1563 [00:01<00:02, 395.44it/s]\u001b[A\n",
            "Training - Iterations::  39%|███▉      | 612/1563 [00:01<00:02, 395.91it/s]\u001b[A\n",
            "Training - Iterations::  42%|████▏     | 652/1563 [00:01<00:02, 396.97it/s]\u001b[A\n",
            "Training - Iterations::  44%|████▍     | 692/1563 [00:01<00:02, 369.71it/s]\u001b[A\n",
            "Training - Iterations::  47%|████▋     | 730/1563 [00:01<00:02, 370.45it/s]\u001b[A\n",
            "Training - Iterations::  49%|████▉     | 770/1563 [00:01<00:02, 377.16it/s]\u001b[A\n",
            "Training - Iterations::  52%|█████▏    | 808/1563 [00:02<00:02, 376.23it/s]\u001b[A\n",
            "Training - Iterations::  54%|█████▍    | 848/1563 [00:02<00:01, 382.21it/s]\u001b[A\n",
            "Training - Iterations::  57%|█████▋    | 889/1563 [00:02<00:01, 388.62it/s]\u001b[A\n",
            "Training - Iterations::  59%|█████▉    | 928/1563 [00:02<00:01, 386.57it/s]\u001b[A\n",
            "Training - Iterations::  62%|██████▏   | 968/1563 [00:02<00:01, 389.68it/s]\u001b[A\n",
            "Training - Iterations::  64%|██████▍   | 1008/1563 [00:02<00:01, 389.20it/s]\u001b[A\n",
            "Training - Iterations::  67%|██████▋   | 1047/1563 [00:02<00:01, 384.08it/s]\u001b[A\n",
            "Training - Iterations::  69%|██████▉   | 1086/1563 [00:02<00:01, 369.78it/s]\u001b[A\n",
            "Training - Iterations::  72%|███████▏  | 1127/1563 [00:02<00:01, 379.50it/s]\u001b[A\n",
            "Training - Iterations::  75%|███████▍  | 1167/1563 [00:03<00:01, 383.50it/s]\u001b[A\n",
            "Training - Iterations::  77%|███████▋  | 1206/1563 [00:03<00:00, 382.95it/s]\u001b[A\n",
            "Training - Iterations::  80%|███████▉  | 1245/1563 [00:03<00:00, 384.92it/s]\u001b[A\n",
            "Training - Iterations::  82%|████████▏ | 1286/1563 [00:03<00:00, 390.28it/s]\u001b[A\n",
            "Training - Iterations::  85%|████████▍ | 1326/1563 [00:03<00:00, 391.77it/s]\u001b[A\n",
            "Training - Iterations::  87%|████████▋ | 1367/1563 [00:03<00:00, 396.98it/s]\u001b[A\n",
            "Training - Iterations::  90%|█████████ | 1407/1563 [00:03<00:00, 395.18it/s]\u001b[A\n",
            "Training - Iterations::  93%|█████████▎| 1447/1563 [00:03<00:00, 382.89it/s]\u001b[A\n",
            "Training - Iterations::  95%|█████████▌| 1486/1563 [00:03<00:00, 369.82it/s]\u001b[A\n",
            "Training - Iterations:: 100%|██████████| 1563/1563 [00:04<00:00, 386.49it/s]\n"
          ]
        },
        {
          "name": "stdout",
          "output_type": "stream",
          "text": [
            "Evaluating model at epoch: 2.\n"
          ]
        },
        {
          "name": "stderr",
          "output_type": "stream",
          "text": [
            "\n",
            "Evaluation - Iteration::   0%|          | 0/313 [00:00<?, ?it/s]\u001b[A\n",
            "Evaluation - Iteration::  26%|██▌       | 80/313 [00:00<00:00, 791.59it/s]\u001b[A\n",
            "Evaluation - Iteration::  58%|█████▊    | 180/313 [00:00<00:00, 913.46it/s]\u001b[A\n",
            "Evaluation - Iteration:: 100%|██████████| 313/313 [00:00<00:00, 910.92it/s]\n",
            "Epochs:  30%|███       | 3/10 [00:15<00:34,  4.92s/it]"
          ]
        },
        {
          "name": "stdout",
          "output_type": "stream",
          "text": [
            "\u001b[1mEpoch\u001b[1m: 2\n",
            "\u001b[1mTrain loss\u001b[1m: 2.2145566940307617.\n",
            "\u001b[1mTrain accuracy[%]\u001b[1m: 23.198.\n",
            "\u001b[1mCross-validation loss\u001b[1m: 2.236212730407715.\n",
            "\u001b[1mCross-validation accuracy[%]\u001b[1m: 33.26.\n"
          ]
        },
        {
          "name": "stderr",
          "output_type": "stream",
          "text": [
            "\n",
            "Training - Iterations::   0%|          | 0/1563 [00:00<?, ?it/s]\u001b[A\n",
            "Training - Iterations::   3%|▎         | 41/1563 [00:00<00:03, 406.60it/s]\u001b[A\n",
            "Training - Iterations::   5%|▌         | 82/1563 [00:00<00:03, 402.04it/s]\u001b[A\n",
            "Training - Iterations::   8%|▊         | 123/1563 [00:00<00:03, 385.98it/s]\u001b[A\n",
            "Training - Iterations::  10%|█         | 162/1563 [00:00<00:03, 353.42it/s]\u001b[A\n",
            "Training - Iterations::  13%|█▎        | 203/1563 [00:00<00:03, 369.78it/s]\u001b[A\n",
            "Training - Iterations::  15%|█▌        | 242/1563 [00:00<00:03, 374.75it/s]\u001b[A\n",
            "Training - Iterations::  18%|█▊        | 280/1563 [00:00<00:03, 374.70it/s]\u001b[A\n",
            "Training - Iterations::  20%|██        | 320/1563 [00:00<00:03, 381.42it/s]\u001b[A\n",
            "Training - Iterations::  23%|██▎       | 360/1563 [00:00<00:03, 386.18it/s]\u001b[A\n",
            "Training - Iterations::  26%|██▌       | 399/1563 [00:01<00:03, 386.25it/s]\u001b[A\n",
            "Training - Iterations::  28%|██▊       | 440/1563 [00:01<00:02, 391.83it/s]\u001b[A\n",
            "Training - Iterations::  31%|███       | 480/1563 [00:01<00:02, 387.85it/s]\u001b[A\n",
            "Training - Iterations::  33%|███▎      | 519/1563 [00:01<00:02, 365.75it/s]\u001b[A\n",
            "Training - Iterations::  36%|███▌      | 556/1563 [00:01<00:02, 361.77it/s]\u001b[A\n",
            "Training - Iterations::  38%|███▊      | 597/1563 [00:01<00:02, 374.03it/s]\u001b[A\n",
            "Training - Iterations::  41%|████      | 638/1563 [00:01<00:02, 383.96it/s]\u001b[A\n",
            "Training - Iterations::  43%|████▎     | 677/1563 [00:01<00:02, 382.75it/s]\u001b[A\n",
            "Training - Iterations::  46%|████▌     | 718/1563 [00:01<00:02, 388.84it/s]\u001b[A\n",
            "Training - Iterations::  49%|████▊     | 760/1563 [00:01<00:02, 397.95it/s]\u001b[A\n",
            "Training - Iterations::  51%|█████     | 801/1563 [00:02<00:01, 399.05it/s]\u001b[A\n",
            "Training - Iterations::  54%|█████▍    | 841/1563 [00:02<00:01, 395.07it/s]\u001b[A\n",
            "Training - Iterations::  56%|█████▋    | 881/1563 [00:02<00:01, 389.82it/s]\u001b[A\n",
            "Training - Iterations::  59%|█████▉    | 921/1563 [00:02<00:01, 373.01it/s]\u001b[A\n",
            "Training - Iterations::  61%|██████▏   | 960/1563 [00:02<00:01, 376.02it/s]\u001b[A\n",
            "Training - Iterations::  64%|██████▍   | 1000/1563 [00:02<00:01, 381.59it/s]\u001b[A\n",
            "Training - Iterations::  67%|██████▋   | 1042/1563 [00:02<00:01, 390.90it/s]\u001b[A\n",
            "Training - Iterations::  69%|██████▉   | 1082/1563 [00:02<00:01, 386.10it/s]\u001b[A\n",
            "Training - Iterations::  72%|███████▏  | 1123/1563 [00:02<00:01, 391.41it/s]\u001b[A\n",
            "Training - Iterations::  74%|███████▍  | 1163/1563 [00:03<00:01, 363.31it/s]\u001b[A\n",
            "Training - Iterations::  77%|███████▋  | 1200/1563 [00:03<00:01, 349.10it/s]\u001b[A\n",
            "Training - Iterations::  79%|███████▉  | 1236/1563 [00:03<00:00, 333.65it/s]\u001b[A\n",
            "Training - Iterations::  81%|████████▏ | 1270/1563 [00:03<00:00, 318.47it/s]\u001b[A\n",
            "Training - Iterations::  83%|████████▎ | 1303/1563 [00:03<00:00, 320.08it/s]\u001b[A\n",
            "Training - Iterations::  86%|████████▌ | 1339/1563 [00:03<00:00, 328.50it/s]\u001b[A\n",
            "Training - Iterations::  88%|████████▊ | 1373/1563 [00:03<00:00, 322.98it/s]\u001b[A\n",
            "Training - Iterations::  90%|████████▉ | 1406/1563 [00:03<00:00, 315.71it/s]\u001b[A\n",
            "Training - Iterations::  92%|█████████▏| 1438/1563 [00:03<00:00, 316.90it/s]\u001b[A\n",
            "Training - Iterations::  94%|█████████▍| 1475/1563 [00:04<00:00, 331.10it/s]\u001b[A\n",
            "Training - Iterations::  97%|█████████▋| 1511/1563 [00:04<00:00, 337.14it/s]\u001b[A\n",
            "Training - Iterations:: 100%|██████████| 1563/1563 [00:04<00:00, 361.85it/s]\n"
          ]
        },
        {
          "name": "stdout",
          "output_type": "stream",
          "text": [
            "Evaluating model at epoch: 3.\n"
          ]
        },
        {
          "name": "stderr",
          "output_type": "stream",
          "text": [
            "\n",
            "Evaluation - Iteration::   0%|          | 0/313 [00:00<?, ?it/s]\u001b[A\n",
            "Evaluation - Iteration::  19%|█▉        | 60/313 [00:00<00:00, 589.83it/s]\u001b[A\n",
            "Evaluation - Iteration::  39%|███▉      | 122/313 [00:00<00:00, 603.52it/s]\u001b[A\n",
            "Evaluation - Iteration::  63%|██████▎   | 198/313 [00:00<00:00, 673.03it/s]\u001b[A\n",
            "Evaluation - Iteration:: 100%|██████████| 313/313 [00:00<00:00, 669.00it/s]\n",
            "Epochs:  40%|████      | 4/10 [00:20<00:29,  4.88s/it]"
          ]
        },
        {
          "name": "stdout",
          "output_type": "stream",
          "text": [
            "\u001b[1mEpoch\u001b[1m: 3\n",
            "\u001b[1mTrain loss\u001b[1m: 2.2261905670166016.\n",
            "\u001b[1mTrain accuracy[%]\u001b[1m: 28.548000000000002.\n",
            "\u001b[1mCross-validation loss\u001b[1m: 2.133038282394409.\n",
            "\u001b[1mCross-validation accuracy[%]\u001b[1m: 38.54.\n"
          ]
        },
        {
          "name": "stderr",
          "output_type": "stream",
          "text": [
            "\n",
            "Training - Iterations::   0%|          | 0/1563 [00:00<?, ?it/s]\u001b[A\n",
            "Training - Iterations::   2%|▏         | 28/1563 [00:00<00:05, 279.43it/s]\u001b[A\n",
            "Training - Iterations::   4%|▎         | 56/1563 [00:00<00:05, 279.44it/s]\u001b[A\n",
            "Training - Iterations::   6%|▌         | 87/1563 [00:00<00:05, 289.51it/s]\u001b[A\n",
            "Training - Iterations::   8%|▊         | 118/1563 [00:00<00:04, 297.04it/s]\u001b[A\n",
            "Training - Iterations::   9%|▉         | 148/1563 [00:00<00:04, 293.45it/s]\u001b[A\n",
            "Training - Iterations::  11%|█▏        | 178/1563 [00:00<00:04, 280.90it/s]\u001b[A\n",
            "Training - Iterations::  13%|█▎        | 208/1563 [00:00<00:04, 285.77it/s]\u001b[A\n",
            "Training - Iterations::  15%|█▌        | 241/1563 [00:00<00:04, 296.61it/s]\u001b[A\n",
            "Training - Iterations::  17%|█▋        | 272/1563 [00:00<00:04, 298.14it/s]\u001b[A\n",
            "Training - Iterations::  19%|█▉        | 302/1563 [00:01<00:04, 297.31it/s]\u001b[A\n",
            "Training - Iterations::  21%|██▏       | 335/1563 [00:01<00:04, 306.68it/s]\u001b[A\n",
            "Training - Iterations::  24%|██▍       | 377/1563 [00:01<00:03, 338.73it/s]\u001b[A\n",
            "Training - Iterations::  27%|██▋       | 415/1563 [00:01<00:03, 349.14it/s]\u001b[A\n",
            "Training - Iterations::  29%|██▉       | 457/1563 [00:01<00:03, 367.97it/s]\u001b[A\n",
            "Training - Iterations::  32%|███▏      | 494/1563 [00:01<00:03, 355.62it/s]\u001b[A\n",
            "Training - Iterations::  34%|███▍      | 533/1563 [00:01<00:02, 364.17it/s]\u001b[A\n",
            "Training - Iterations::  37%|███▋      | 573/1563 [00:01<00:02, 372.33it/s]\u001b[A\n",
            "Training - Iterations::  39%|███▉      | 614/1563 [00:01<00:02, 382.93it/s]\u001b[A\n",
            "Training - Iterations::  42%|████▏     | 653/1563 [00:01<00:02, 384.05it/s]\u001b[A\n",
            "Training - Iterations::  44%|████▍     | 694/1563 [00:02<00:02, 389.20it/s]\u001b[A\n",
            "Training - Iterations::  47%|████▋     | 733/1563 [00:02<00:02, 379.93it/s]\u001b[A\n",
            "Training - Iterations::  50%|████▉     | 774/1563 [00:02<00:02, 384.50it/s]\u001b[A\n",
            "Training - Iterations::  52%|█████▏    | 814/1563 [00:02<00:01, 387.38it/s]\u001b[A\n",
            "Training - Iterations::  55%|█████▍    | 853/1563 [00:02<00:01, 379.86it/s]\u001b[A\n",
            "Training - Iterations::  57%|█████▋    | 892/1563 [00:02<00:01, 364.75it/s]\u001b[A\n",
            "Training - Iterations::  60%|█████▉    | 930/1563 [00:02<00:01, 368.50it/s]\u001b[A\n",
            "Training - Iterations::  62%|██████▏   | 971/1563 [00:02<00:01, 378.94it/s]\u001b[A\n",
            "Training - Iterations::  65%|██████▍   | 1013/1563 [00:02<00:01, 390.29it/s]\u001b[A\n",
            "Training - Iterations::  67%|██████▋   | 1055/1563 [00:03<00:01, 396.23it/s]\u001b[A\n",
            "Training - Iterations::  70%|███████   | 1097/1563 [00:03<00:01, 402.49it/s]\u001b[A\n",
            "Training - Iterations::  73%|███████▎  | 1138/1563 [00:03<00:01, 395.74it/s]\u001b[A\n",
            "Training - Iterations::  76%|███████▌  | 1181/1563 [00:03<00:00, 403.99it/s]\u001b[A\n",
            "Training - Iterations::  78%|███████▊  | 1222/1563 [00:03<00:00, 400.74it/s]\u001b[A\n",
            "Training - Iterations::  81%|████████  | 1263/1563 [00:03<00:00, 387.01it/s]\u001b[A\n",
            "Training - Iterations::  83%|████████▎ | 1302/1563 [00:03<00:00, 379.13it/s]\u001b[A\n",
            "Training - Iterations::  86%|████████▌ | 1343/1563 [00:03<00:00, 386.63it/s]\u001b[A\n",
            "Training - Iterations::  89%|████████▊ | 1384/1563 [00:03<00:00, 391.38it/s]\u001b[A\n",
            "Training - Iterations::  91%|█████████▏| 1427/1563 [00:03<00:00, 401.01it/s]\u001b[A\n",
            "Training - Iterations::  94%|█████████▍| 1469/1563 [00:04<00:00, 404.25it/s]\u001b[A\n",
            "Training - Iterations::  97%|█████████▋| 1511/1563 [00:04<00:00, 407.12it/s]\u001b[A\n",
            "Training - Iterations:: 100%|██████████| 1563/1563 [00:04<00:00, 364.37it/s]\n"
          ]
        },
        {
          "name": "stdout",
          "output_type": "stream",
          "text": [
            "Evaluating model at epoch: 4.\n"
          ]
        },
        {
          "name": "stderr",
          "output_type": "stream",
          "text": [
            "\n",
            "Evaluation - Iteration::   0%|          | 0/313 [00:00<?, ?it/s]\u001b[A\n",
            "Evaluation - Iteration::  33%|███▎      | 104/313 [00:00<00:00, 1027.73it/s]\u001b[A\n",
            "Evaluation - Iteration::  66%|██████▌   | 207/313 [00:00<00:00, 941.65it/s] \u001b[A\n",
            "Evaluation - Iteration:: 100%|██████████| 313/313 [00:00<00:00, 895.99it/s]\n",
            "Epochs:  50%|█████     | 5/10 [00:24<00:24,  4.80s/it]"
          ]
        },
        {
          "name": "stdout",
          "output_type": "stream",
          "text": [
            "\u001b[1mEpoch\u001b[1m: 4\n",
            "\u001b[1mTrain loss\u001b[1m: 2.122631549835205.\n",
            "\u001b[1mTrain accuracy[%]\u001b[1m: 35.144.\n",
            "\u001b[1mCross-validation loss\u001b[1m: 2.0817453861236572.\n",
            "\u001b[1mCross-validation accuracy[%]\u001b[1m: 46.47.\n"
          ]
        },
        {
          "name": "stderr",
          "output_type": "stream",
          "text": [
            "\n",
            "Training - Iterations::   0%|          | 0/1563 [00:00<?, ?it/s]\u001b[A\n",
            "Training - Iterations::   3%|▎         | 42/1563 [00:00<00:03, 411.97it/s]\u001b[A\n",
            "Training - Iterations::   5%|▌         | 84/1563 [00:00<00:03, 403.66it/s]\u001b[A\n",
            "Training - Iterations::   8%|▊         | 126/1563 [00:00<00:03, 407.30it/s]\u001b[A\n",
            "Training - Iterations::  11%|█         | 167/1563 [00:00<00:03, 389.10it/s]\u001b[A\n",
            "Training - Iterations::  13%|█▎        | 207/1563 [00:00<00:03, 383.41it/s]\u001b[A\n",
            "Training - Iterations::  16%|█▌        | 246/1563 [00:00<00:03, 381.36it/s]\u001b[A\n",
            "Training - Iterations::  18%|█▊        | 288/1563 [00:00<00:03, 389.79it/s]\u001b[A\n",
            "Training - Iterations::  21%|██        | 328/1563 [00:00<00:03, 376.09it/s]\u001b[A\n",
            "Training - Iterations::  23%|██▎       | 366/1563 [00:00<00:03, 362.61it/s]\u001b[A\n",
            "Training - Iterations::  26%|██▌       | 407/1563 [00:01<00:03, 375.02it/s]\u001b[A\n",
            "Training - Iterations::  29%|██▊       | 448/1563 [00:01<00:02, 382.86it/s]\u001b[A\n",
            "Training - Iterations::  31%|███▏      | 490/1563 [00:01<00:02, 391.64it/s]\u001b[A\n",
            "Training - Iterations::  34%|███▍      | 531/1563 [00:01<00:02, 395.45it/s]\u001b[A\n",
            "Training - Iterations::  37%|███▋      | 572/1563 [00:01<00:02, 397.12it/s]\u001b[A\n",
            "Training - Iterations::  39%|███▉      | 612/1563 [00:01<00:02, 392.01it/s]\u001b[A\n",
            "Training - Iterations::  42%|████▏     | 653/1563 [00:01<00:02, 394.75it/s]\u001b[A\n",
            "Training - Iterations::  44%|████▍     | 693/1563 [00:01<00:02, 394.47it/s]\u001b[A\n",
            "Training - Iterations::  47%|████▋     | 733/1563 [00:01<00:02, 374.62it/s]\u001b[A\n",
            "Training - Iterations::  49%|████▉     | 771/1563 [00:02<00:02, 374.70it/s]\u001b[A\n",
            "Training - Iterations::  52%|█████▏    | 809/1563 [00:02<00:02, 368.95it/s]\u001b[A\n",
            "Training - Iterations::  54%|█████▍    | 848/1563 [00:02<00:01, 373.56it/s]\u001b[A\n",
            "Training - Iterations::  57%|█████▋    | 887/1563 [00:02<00:01, 378.16it/s]\u001b[A\n",
            "Training - Iterations::  59%|█████▉    | 926/1563 [00:02<00:01, 381.61it/s]\u001b[A\n",
            "Training - Iterations::  62%|██████▏   | 966/1563 [00:02<00:01, 385.26it/s]\u001b[A\n",
            "Training - Iterations::  64%|██████▍   | 1005/1563 [00:02<00:01, 377.24it/s]\u001b[A\n",
            "Training - Iterations::  67%|██████▋   | 1046/1563 [00:02<00:01, 386.43it/s]\u001b[A\n",
            "Training - Iterations::  69%|██████▉   | 1085/1563 [00:02<00:01, 384.29it/s]\u001b[A\n",
            "Training - Iterations::  72%|███████▏  | 1124/1563 [00:02<00:01, 367.17it/s]\u001b[A\n",
            "Training - Iterations::  74%|███████▍  | 1164/1563 [00:03<00:01, 376.21it/s]\u001b[A\n",
            "Training - Iterations::  77%|███████▋  | 1205/1563 [00:03<00:00, 385.39it/s]\u001b[A\n",
            "Training - Iterations::  80%|███████▉  | 1245/1563 [00:03<00:00, 388.33it/s]\u001b[A\n",
            "Training - Iterations::  82%|████████▏ | 1287/1563 [00:03<00:00, 395.09it/s]\u001b[A\n",
            "Training - Iterations::  85%|████████▍ | 1327/1563 [00:03<00:00, 394.52it/s]\u001b[A\n",
            "Training - Iterations::  87%|████████▋ | 1367/1563 [00:03<00:00, 389.56it/s]\u001b[A\n",
            "Training - Iterations::  90%|█████████ | 1407/1563 [00:03<00:00, 383.93it/s]\u001b[A\n",
            "Training - Iterations::  93%|█████████▎| 1447/1563 [00:03<00:00, 387.90it/s]\u001b[A\n",
            "Training - Iterations::  95%|█████████▌| 1486/1563 [00:03<00:00, 369.00it/s]\u001b[A\n",
            "Training - Iterations:: 100%|██████████| 1563/1563 [00:04<00:00, 383.19it/s]\n"
          ]
        },
        {
          "name": "stdout",
          "output_type": "stream",
          "text": [
            "Evaluating model at epoch: 5.\n"
          ]
        },
        {
          "name": "stderr",
          "output_type": "stream",
          "text": [
            "\n",
            "Evaluation - Iteration::   0%|          | 0/313 [00:00<?, ?it/s]\u001b[A\n",
            "Evaluation - Iteration::  27%|██▋       | 85/313 [00:00<00:00, 843.42it/s]\u001b[A\n",
            "Evaluation - Iteration::  54%|█████▍    | 170/313 [00:00<00:00, 531.90it/s]\u001b[A\n",
            "Evaluation - Iteration:: 100%|██████████| 313/313 [00:00<00:00, 641.72it/s]\n",
            "Epochs:  60%|██████    | 6/10 [00:29<00:18,  4.73s/it]"
          ]
        },
        {
          "name": "stdout",
          "output_type": "stream",
          "text": [
            "\u001b[1mEpoch\u001b[1m: 5\n",
            "\u001b[1mTrain loss\u001b[1m: 1.8129318952560425.\n",
            "\u001b[1mTrain accuracy[%]\u001b[1m: 44.768.\n",
            "\u001b[1mCross-validation loss\u001b[1m: 1.8055120706558228.\n",
            "\u001b[1mCross-validation accuracy[%]\u001b[1m: 61.8.\n"
          ]
        },
        {
          "name": "stderr",
          "output_type": "stream",
          "text": [
            "\n",
            "Training - Iterations::   0%|          | 0/1563 [00:00<?, ?it/s]\u001b[A\n",
            "Training - Iterations::   2%|▏         | 36/1563 [00:00<00:04, 356.76it/s]\u001b[A\n",
            "Training - Iterations::   5%|▍         | 77/1563 [00:00<00:03, 382.01it/s]\u001b[A\n",
            "Training - Iterations::   7%|▋         | 116/1563 [00:00<00:04, 355.14it/s]\u001b[A\n",
            "Training - Iterations::  10%|▉         | 152/1563 [00:00<00:04, 325.32it/s]\u001b[A\n",
            "Training - Iterations::  12%|█▏        | 185/1563 [00:00<00:05, 243.23it/s]\u001b[A\n",
            "Training - Iterations::  14%|█▎        | 213/1563 [00:00<00:05, 252.65it/s]\u001b[A\n",
            "Training - Iterations::  16%|█▋        | 254/1563 [00:00<00:04, 292.95it/s]\u001b[A\n",
            "Training - Iterations::  19%|█▉        | 295/1563 [00:00<00:03, 325.08it/s]\u001b[A\n",
            "Training - Iterations::  21%|██▏       | 334/1563 [00:01<00:03, 342.34it/s]\u001b[A\n",
            "Training - Iterations::  24%|██▎       | 371/1563 [00:01<00:03, 348.89it/s]\u001b[A\n",
            "Training - Iterations::  26%|██▌       | 407/1563 [00:01<00:03, 345.87it/s]\u001b[A\n",
            "Training - Iterations::  28%|██▊       | 443/1563 [00:01<00:04, 239.98it/s]\u001b[A\n",
            "Training - Iterations::  31%|███       | 478/1563 [00:01<00:04, 263.27it/s]\u001b[A\n",
            "Training - Iterations::  33%|███▎      | 521/1563 [00:01<00:03, 301.86it/s]\u001b[A\n",
            "Training - Iterations::  36%|███▌      | 561/1563 [00:01<00:03, 324.58it/s]\u001b[A\n",
            "Training - Iterations::  38%|███▊      | 597/1563 [00:01<00:03, 315.39it/s]\u001b[A\n",
            "Training - Iterations::  40%|████      | 631/1563 [00:02<00:03, 302.17it/s]\u001b[A\n",
            "Training - Iterations::  42%|████▏     | 663/1563 [00:02<00:03, 294.03it/s]\u001b[A\n",
            "Training - Iterations::  44%|████▍     | 694/1563 [00:02<00:03, 285.93it/s]\u001b[A\n",
            "Training - Iterations::  46%|████▋     | 724/1563 [00:02<00:02, 287.35it/s]\u001b[A\n",
            "Training - Iterations::  48%|████▊     | 755/1563 [00:02<00:02, 292.55it/s]\u001b[A\n",
            "Training - Iterations::  50%|█████     | 788/1563 [00:02<00:02, 301.07it/s]\u001b[A\n",
            "Training - Iterations::  52%|█████▏    | 820/1563 [00:02<00:02, 306.42it/s]\u001b[A\n",
            "Training - Iterations::  55%|█████▍    | 853/1563 [00:02<00:02, 310.83it/s]\u001b[A\n",
            "Training - Iterations::  57%|█████▋    | 887/1563 [00:02<00:02, 318.82it/s]\u001b[A\n",
            "Training - Iterations::  59%|█████▉    | 920/1563 [00:03<00:02, 320.32it/s]\u001b[A\n",
            "Training - Iterations::  61%|██████    | 956/1563 [00:03<00:01, 327.81it/s]\u001b[A\n",
            "Training - Iterations::  63%|██████▎   | 989/1563 [00:03<00:01, 311.17it/s]\u001b[A\n",
            "Training - Iterations::  65%|██████▌   | 1021/1563 [00:03<00:01, 291.83it/s]\u001b[A\n",
            "Training - Iterations::  67%|██████▋   | 1051/1563 [00:03<00:01, 290.58it/s]\u001b[A\n",
            "Training - Iterations::  69%|██████▉   | 1084/1563 [00:03<00:01, 299.24it/s]\u001b[A\n",
            "Training - Iterations::  71%|███████▏  | 1115/1563 [00:03<00:01, 293.66it/s]\u001b[A\n",
            "Training - Iterations::  73%|███████▎  | 1146/1563 [00:03<00:01, 296.62it/s]\u001b[A\n",
            "Training - Iterations::  75%|███████▌  | 1176/1563 [00:03<00:01, 292.20it/s]\u001b[A\n",
            "Training - Iterations::  77%|███████▋  | 1208/1563 [00:03<00:01, 300.09it/s]\u001b[A\n",
            "Training - Iterations::  79%|███████▉  | 1240/1563 [00:04<00:01, 304.14it/s]\u001b[A\n",
            "Training - Iterations::  81%|████████▏ | 1271/1563 [00:04<00:01, 279.01it/s]\u001b[A\n",
            "Training - Iterations::  83%|████████▎ | 1300/1563 [00:04<00:00, 274.17it/s]\u001b[A\n",
            "Training - Iterations::  85%|████████▍ | 1328/1563 [00:04<00:00, 269.08it/s]\u001b[A\n",
            "Training - Iterations::  87%|████████▋ | 1363/1563 [00:04<00:00, 290.84it/s]\u001b[A\n",
            "Training - Iterations::  90%|████████▉ | 1403/1563 [00:04<00:00, 321.34it/s]\u001b[A\n",
            "Training - Iterations::  92%|█████████▏| 1444/1563 [00:04<00:00, 346.44it/s]\u001b[A\n",
            "Training - Iterations::  95%|█████████▍| 1484/1563 [00:04<00:00, 359.09it/s]\u001b[A\n",
            "Training - Iterations::  97%|█████████▋| 1523/1563 [00:04<00:00, 368.00it/s]\u001b[A\n",
            "Training - Iterations:: 100%|██████████| 1563/1563 [00:05<00:00, 308.46it/s]\n"
          ]
        },
        {
          "name": "stdout",
          "output_type": "stream",
          "text": [
            "Evaluating model at epoch: 6.\n"
          ]
        },
        {
          "name": "stderr",
          "output_type": "stream",
          "text": [
            "\n",
            "Evaluation - Iteration::   0%|          | 0/313 [00:00<?, ?it/s]\u001b[A\n",
            "Evaluation - Iteration::  32%|███▏      | 100/313 [00:00<00:00, 998.37it/s]\u001b[A\n",
            "Evaluation - Iteration::  64%|██████▍   | 200/313 [00:00<00:00, 829.47it/s]\u001b[A\n",
            "Evaluation - Iteration:: 100%|██████████| 313/313 [00:00<00:00, 863.99it/s]\n",
            "Epochs:  70%|███████   | 7/10 [00:34<00:14,  4.97s/it]"
          ]
        },
        {
          "name": "stdout",
          "output_type": "stream",
          "text": [
            "\u001b[1mEpoch\u001b[1m: 6\n",
            "\u001b[1mTrain loss\u001b[1m: 1.4657412767410278.\n",
            "\u001b[1mTrain accuracy[%]\u001b[1m: 55.38999999999999.\n",
            "\u001b[1mCross-validation loss\u001b[1m: 1.3909088373184204.\n",
            "\u001b[1mCross-validation accuracy[%]\u001b[1m: 67.77.\n"
          ]
        },
        {
          "name": "stderr",
          "output_type": "stream",
          "text": [
            "\n",
            "Training - Iterations::   0%|          | 0/1563 [00:00<?, ?it/s]\u001b[A\n",
            "Training - Iterations::   3%|▎         | 41/1563 [00:00<00:03, 403.61it/s]\u001b[A\n",
            "Training - Iterations::   5%|▌         | 82/1563 [00:00<00:03, 405.68it/s]\u001b[A\n",
            "Training - Iterations::   8%|▊         | 123/1563 [00:00<00:03, 403.52it/s]\u001b[A\n",
            "Training - Iterations::  10%|█         | 164/1563 [00:00<00:03, 367.30it/s]\u001b[A\n",
            "Training - Iterations::  13%|█▎        | 204/1563 [00:00<00:03, 378.06it/s]\u001b[A\n",
            "Training - Iterations::  16%|█▌        | 243/1563 [00:00<00:03, 373.62it/s]\u001b[A\n",
            "Training - Iterations::  18%|█▊        | 283/1563 [00:00<00:03, 381.18it/s]\u001b[A\n",
            "Training - Iterations::  21%|██        | 322/1563 [00:00<00:03, 353.44it/s]\u001b[A\n",
            "Training - Iterations::  23%|██▎       | 358/1563 [00:00<00:03, 355.11it/s]\u001b[A\n",
            "Training - Iterations::  25%|██▌       | 398/1563 [00:01<00:03, 367.92it/s]\u001b[A\n",
            "Training - Iterations::  28%|██▊       | 440/1563 [00:01<00:02, 380.81it/s]\u001b[A\n",
            "Training - Iterations::  31%|███       | 480/1563 [00:01<00:02, 385.50it/s]\u001b[A\n",
            "Training - Iterations::  33%|███▎      | 521/1563 [00:01<00:02, 391.55it/s]\u001b[A\n",
            "Training - Iterations::  36%|███▌      | 561/1563 [00:01<00:02, 388.30it/s]\u001b[A\n",
            "Training - Iterations::  38%|███▊      | 601/1563 [00:01<00:02, 389.26it/s]\u001b[A\n",
            "Training - Iterations::  41%|████      | 640/1563 [00:01<00:02, 385.26it/s]\u001b[A\n",
            "Training - Iterations::  43%|████▎     | 679/1563 [00:01<00:02, 381.08it/s]\u001b[A\n",
            "Training - Iterations::  46%|████▌     | 718/1563 [00:01<00:02, 357.64it/s]\u001b[A\n",
            "Training - Iterations::  48%|████▊     | 757/1563 [00:02<00:02, 364.97it/s]\u001b[A\n",
            "Training - Iterations::  51%|█████     | 797/1563 [00:02<00:02, 373.00it/s]\u001b[A\n",
            "Training - Iterations::  54%|█████▎    | 837/1563 [00:02<00:01, 379.44it/s]\u001b[A\n",
            "Training - Iterations::  56%|█████▌    | 876/1563 [00:02<00:01, 381.26it/s]\u001b[A\n",
            "Training - Iterations::  59%|█████▊    | 915/1563 [00:02<00:01, 381.89it/s]\u001b[A\n",
            "Training - Iterations::  61%|██████    | 956/1563 [00:02<00:01, 387.53it/s]\u001b[A\n",
            "Training - Iterations::  64%|██████▎   | 995/1563 [00:02<00:01, 386.65it/s]\u001b[A\n",
            "Training - Iterations::  66%|██████▋   | 1037/1563 [00:02<00:01, 395.44it/s]\u001b[A\n",
            "Training - Iterations::  69%|██████▉   | 1077/1563 [00:02<00:01, 374.21it/s]\u001b[A\n",
            "Training - Iterations::  71%|███████▏  | 1115/1563 [00:02<00:01, 368.00it/s]\u001b[A\n",
            "Training - Iterations::  74%|███████▍  | 1155/1563 [00:03<00:01, 375.58it/s]\u001b[A\n",
            "Training - Iterations::  77%|███████▋  | 1196/1563 [00:03<00:00, 384.98it/s]\u001b[A\n",
            "Training - Iterations::  79%|███████▉  | 1236/1563 [00:03<00:00, 388.53it/s]\u001b[A\n",
            "Training - Iterations::  82%|████████▏ | 1279/1563 [00:03<00:00, 398.26it/s]\u001b[A\n",
            "Training - Iterations::  84%|████████▍ | 1319/1563 [00:03<00:00, 398.44it/s]\u001b[A\n",
            "Training - Iterations::  87%|████████▋ | 1361/1563 [00:03<00:00, 403.90it/s]\u001b[A\n",
            "Training - Iterations::  90%|████████▉ | 1402/1563 [00:03<00:00, 404.79it/s]\u001b[A\n",
            "Training - Iterations::  92%|█████████▏| 1443/1563 [00:03<00:00, 399.30it/s]\u001b[A\n",
            "Training - Iterations::  95%|█████████▍| 1483/1563 [00:03<00:00, 377.02it/s]\u001b[A\n",
            "Training - Iterations::  97%|█████████▋| 1521/1563 [00:03<00:00, 376.64it/s]\u001b[A\n",
            "Training - Iterations:: 100%|██████████| 1563/1563 [00:04<00:00, 381.21it/s]\n"
          ]
        },
        {
          "name": "stdout",
          "output_type": "stream",
          "text": [
            "Evaluating model at epoch: 7.\n"
          ]
        },
        {
          "name": "stderr",
          "output_type": "stream",
          "text": [
            "\n",
            "Evaluation - Iteration::   0%|          | 0/313 [00:00<?, ?it/s]\u001b[A\n",
            "Evaluation - Iteration::  34%|███▍      | 107/313 [00:00<00:00, 1064.22it/s]\u001b[A\n",
            "Evaluation - Iteration:: 100%|██████████| 313/313 [00:00<00:00, 1010.38it/s]\n",
            "Epochs:  80%|████████  | 8/10 [00:39<00:09,  4.80s/it]"
          ]
        },
        {
          "name": "stdout",
          "output_type": "stream",
          "text": [
            "\u001b[1mEpoch\u001b[1m: 7\n",
            "\u001b[1mTrain loss\u001b[1m: 1.1476881504058838.\n",
            "\u001b[1mTrain accuracy[%]\u001b[1m: 63.434000000000005.\n",
            "\u001b[1mCross-validation loss\u001b[1m: 1.2632114887237549.\n",
            "\u001b[1mCross-validation accuracy[%]\u001b[1m: 72.71.\n"
          ]
        },
        {
          "name": "stderr",
          "output_type": "stream",
          "text": [
            "\n",
            "Training - Iterations::   0%|          | 0/1563 [00:00<?, ?it/s]\u001b[A\n",
            "Training - Iterations::   3%|▎         | 41/1563 [00:00<00:03, 409.72it/s]\u001b[A\n",
            "Training - Iterations::   5%|▌         | 82/1563 [00:00<00:03, 391.51it/s]\u001b[A\n",
            "Training - Iterations::   8%|▊         | 124/1563 [00:00<00:03, 400.71it/s]\u001b[A\n",
            "Training - Iterations::  11%|█         | 165/1563 [00:00<00:03, 365.46it/s]\u001b[A\n",
            "Training - Iterations::  13%|█▎        | 202/1563 [00:00<00:03, 355.54it/s]\u001b[A\n",
            "Training - Iterations::  15%|█▌        | 242/1563 [00:00<00:03, 367.60it/s]\u001b[A\n",
            "Training - Iterations::  18%|█▊        | 284/1563 [00:00<00:03, 381.84it/s]\u001b[A\n",
            "Training - Iterations::  21%|██        | 323/1563 [00:00<00:03, 381.14it/s]\u001b[A\n",
            "Training - Iterations::  23%|██▎       | 364/1563 [00:00<00:03, 389.11it/s]\u001b[A\n",
            "Training - Iterations::  26%|██▌       | 404/1563 [00:01<00:02, 388.34it/s]\u001b[A\n",
            "Training - Iterations::  28%|██▊       | 445/1563 [00:01<00:02, 392.41it/s]\u001b[A\n",
            "Training - Iterations::  31%|███       | 485/1563 [00:01<00:02, 385.77it/s]\u001b[A\n",
            "Training - Iterations::  34%|███▎      | 524/1563 [00:01<00:02, 376.11it/s]\u001b[A\n",
            "Training - Iterations::  36%|███▌      | 562/1563 [00:01<00:02, 366.67it/s]\u001b[A\n",
            "Training - Iterations::  38%|███▊      | 599/1563 [00:01<00:02, 361.21it/s]\u001b[A\n",
            "Training - Iterations::  41%|████      | 640/1563 [00:01<00:02, 374.04it/s]\u001b[A\n",
            "Training - Iterations::  44%|████▎     | 680/1563 [00:01<00:02, 381.46it/s]\u001b[A\n",
            "Training - Iterations::  46%|████▌     | 721/1563 [00:01<00:02, 388.62it/s]\u001b[A\n",
            "Training - Iterations::  49%|████▊     | 760/1563 [00:01<00:02, 388.62it/s]\u001b[A\n",
            "Training - Iterations::  51%|█████     | 801/1563 [00:02<00:01, 392.94it/s]\u001b[A\n",
            "Training - Iterations::  54%|█████▍    | 841/1563 [00:02<00:01, 394.05it/s]\u001b[A\n",
            "Training - Iterations::  56%|█████▋    | 881/1563 [00:02<00:01, 387.45it/s]\u001b[A\n",
            "Training - Iterations::  59%|█████▉    | 920/1563 [00:02<00:01, 362.86it/s]\u001b[A\n",
            "Training - Iterations::  61%|██████▏   | 959/1563 [00:02<00:01, 368.86it/s]\u001b[A\n",
            "Training - Iterations::  64%|██████▍   | 997/1563 [00:02<00:01, 371.27it/s]\u001b[A\n",
            "Training - Iterations::  66%|██████▋   | 1038/1563 [00:02<00:01, 380.92it/s]\u001b[A\n",
            "Training - Iterations::  69%|██████▉   | 1078/1563 [00:02<00:01, 385.02it/s]\u001b[A\n",
            "Training - Iterations::  72%|███████▏  | 1119/1563 [00:02<00:01, 390.35it/s]\u001b[A\n",
            "Training - Iterations::  74%|███████▍  | 1159/1563 [00:03<00:01, 390.89it/s]\u001b[A\n",
            "Training - Iterations::  77%|███████▋  | 1201/1563 [00:03<00:00, 397.01it/s]\u001b[A\n",
            "Training - Iterations::  79%|███████▉  | 1241/1563 [00:03<00:00, 394.38it/s]\u001b[A\n",
            "Training - Iterations::  82%|████████▏ | 1281/1563 [00:03<00:00, 390.65it/s]\u001b[A\n",
            "Training - Iterations::  85%|████████▍ | 1321/1563 [00:03<00:00, 367.28it/s]\u001b[A\n",
            "Training - Iterations::  87%|████████▋ | 1360/1563 [00:03<00:00, 372.61it/s]\u001b[A\n",
            "Training - Iterations::  89%|████████▉ | 1398/1563 [00:03<00:00, 373.96it/s]\u001b[A\n",
            "Training - Iterations::  92%|█████████▏| 1439/1563 [00:03<00:00, 383.31it/s]\u001b[A\n",
            "Training - Iterations::  95%|█████████▍| 1479/1563 [00:03<00:00, 387.12it/s]\u001b[A\n",
            "Training - Iterations::  97%|█████████▋| 1520/1563 [00:03<00:00, 392.18it/s]\u001b[A\n",
            "Training - Iterations:: 100%|██████████| 1563/1563 [00:04<00:00, 381.18it/s]\n"
          ]
        },
        {
          "name": "stdout",
          "output_type": "stream",
          "text": [
            "Evaluating model at epoch: 8.\n"
          ]
        },
        {
          "name": "stderr",
          "output_type": "stream",
          "text": [
            "\n",
            "Evaluation - Iteration::   0%|          | 0/313 [00:00<?, ?it/s]\u001b[A\n",
            "Evaluation - Iteration::  32%|███▏      | 99/313 [00:00<00:00, 986.65it/s]\u001b[A\n",
            "Evaluation - Iteration::  64%|██████▎   | 199/313 [00:00<00:00, 990.83it/s]\u001b[A\n",
            "Evaluation - Iteration:: 100%|██████████| 313/313 [00:00<00:00, 875.62it/s]\n",
            "Epochs:  90%|█████████ | 9/10 [00:43<00:04,  4.70s/it]"
          ]
        },
        {
          "name": "stdout",
          "output_type": "stream",
          "text": [
            "\u001b[1mEpoch\u001b[1m: 8\n",
            "\u001b[1mTrain loss\u001b[1m: 0.9415963888168335.\n",
            "\u001b[1mTrain accuracy[%]\u001b[1m: 70.15.\n",
            "\u001b[1mCross-validation loss\u001b[1m: 0.7444537281990051.\n",
            "\u001b[1mCross-validation accuracy[%]\u001b[1m: 77.5.\n"
          ]
        },
        {
          "name": "stderr",
          "output_type": "stream",
          "text": [
            "\n",
            "Training - Iterations::   0%|          | 0/1563 [00:00<?, ?it/s]\u001b[A\n",
            "Training - Iterations::   3%|▎         | 41/1563 [00:00<00:03, 401.56it/s]\u001b[A\n",
            "Training - Iterations::   5%|▌         | 82/1563 [00:00<00:04, 332.17it/s]\u001b[A\n",
            "Training - Iterations::   7%|▋         | 116/1563 [00:00<00:04, 316.40it/s]\u001b[A\n",
            "Training - Iterations::   9%|▉         | 148/1563 [00:00<00:04, 309.08it/s]\u001b[A\n",
            "Training - Iterations::  12%|█▏        | 180/1563 [00:00<00:04, 309.26it/s]\u001b[A\n",
            "Training - Iterations::  14%|█▎        | 212/1563 [00:00<00:04, 308.52it/s]\u001b[A\n",
            "Training - Iterations::  16%|█▌        | 246/1563 [00:00<00:04, 317.86it/s]\u001b[A\n",
            "Training - Iterations::  18%|█▊        | 278/1563 [00:00<00:04, 306.08it/s]\u001b[A\n",
            "Training - Iterations::  20%|█▉        | 309/1563 [00:00<00:04, 296.47it/s]\u001b[A\n",
            "Training - Iterations::  22%|██▏       | 339/1563 [00:01<00:04, 296.54it/s]\u001b[A\n",
            "Training - Iterations::  24%|██▎       | 369/1563 [00:01<00:04, 290.18it/s]\u001b[A\n",
            "Training - Iterations::  26%|██▌       | 401/1563 [00:01<00:03, 298.39it/s]\u001b[A\n",
            "Training - Iterations::  28%|██▊       | 437/1563 [00:01<00:03, 314.96it/s]\u001b[A\n",
            "Training - Iterations::  30%|███       | 471/1563 [00:01<00:03, 322.28it/s]\u001b[A\n",
            "Training - Iterations::  32%|███▏      | 504/1563 [00:01<00:03, 318.73it/s]\u001b[A\n",
            "Training - Iterations::  34%|███▍      | 536/1563 [00:01<00:03, 306.83it/s]\u001b[A\n",
            "Training - Iterations::  36%|███▋      | 568/1563 [00:01<00:03, 309.08it/s]\u001b[A\n",
            "Training - Iterations::  38%|███▊      | 600/1563 [00:01<00:03, 290.83it/s]\u001b[A\n",
            "Training - Iterations::  40%|████      | 630/1563 [00:02<00:03, 285.17it/s]\u001b[A\n",
            "Training - Iterations::  42%|████▏     | 660/1563 [00:02<00:03, 286.77it/s]\u001b[A\n",
            "Training - Iterations::  44%|████▍     | 689/1563 [00:02<00:03, 285.84it/s]\u001b[A\n",
            "Training - Iterations::  46%|████▌     | 720/1563 [00:02<00:02, 292.42it/s]\u001b[A\n",
            "Training - Iterations::  48%|████▊     | 752/1563 [00:02<00:02, 299.22it/s]\u001b[A\n",
            "Training - Iterations::  50%|█████     | 784/1563 [00:02<00:02, 303.94it/s]\u001b[A\n",
            "Training - Iterations::  52%|█████▏    | 815/1563 [00:02<00:02, 299.56it/s]\u001b[A\n",
            "Training - Iterations::  54%|█████▍    | 846/1563 [00:02<00:02, 296.48it/s]\u001b[A\n",
            "Training - Iterations::  56%|█████▌    | 876/1563 [00:02<00:02, 281.88it/s]\u001b[A\n",
            "Training - Iterations::  58%|█████▊    | 905/1563 [00:03<00:02, 274.62it/s]\u001b[A\n",
            "Training - Iterations::  60%|██████    | 943/1563 [00:03<00:02, 304.10it/s]\u001b[A\n",
            "Training - Iterations::  63%|██████▎   | 984/1563 [00:03<00:01, 333.29it/s]\u001b[A\n",
            "Training - Iterations::  65%|██████▌   | 1020/1563 [00:03<00:01, 339.99it/s]\u001b[A\n",
            "Training - Iterations::  68%|██████▊   | 1060/1563 [00:03<00:01, 356.76it/s]\u001b[A\n",
            "Training - Iterations::  70%|███████   | 1099/1563 [00:03<00:01, 364.85it/s]\u001b[A\n",
            "Training - Iterations::  73%|███████▎  | 1140/1563 [00:03<00:01, 377.25it/s]\u001b[A\n",
            "Training - Iterations::  75%|███████▌  | 1180/1563 [00:03<00:01, 379.69it/s]\u001b[A\n",
            "Training - Iterations::  78%|███████▊  | 1220/1563 [00:03<00:00, 384.35it/s]\u001b[A\n",
            "Training - Iterations::  81%|████████  | 1259/1563 [00:03<00:00, 361.63it/s]\u001b[A\n",
            "Training - Iterations::  83%|████████▎ | 1299/1563 [00:04<00:00, 371.80it/s]\u001b[A\n",
            "Training - Iterations::  86%|████████▌ | 1340/1563 [00:04<00:00, 381.39it/s]\u001b[A\n",
            "Training - Iterations::  88%|████████▊ | 1380/1563 [00:04<00:00, 384.65it/s]\u001b[A\n",
            "Training - Iterations::  91%|█████████ | 1419/1563 [00:04<00:00, 381.43it/s]\u001b[A\n",
            "Training - Iterations::  93%|█████████▎| 1459/1563 [00:04<00:00, 385.20it/s]\u001b[A\n",
            "Training - Iterations::  96%|█████████▌| 1499/1563 [00:04<00:00, 387.40it/s]\u001b[A\n",
            "Training - Iterations:: 100%|██████████| 1563/1563 [00:04<00:00, 330.20it/s]\n"
          ]
        },
        {
          "name": "stdout",
          "output_type": "stream",
          "text": [
            "Evaluating model at epoch: 9.\n"
          ]
        },
        {
          "name": "stderr",
          "output_type": "stream",
          "text": [
            "\n",
            "Evaluation - Iteration::   0%|          | 0/313 [00:00<?, ?it/s]\u001b[A\n",
            "Evaluation - Iteration::  32%|███▏      | 100/313 [00:00<00:00, 997.79it/s]\u001b[A\n",
            "Evaluation - Iteration::  64%|██████▍   | 200/313 [00:00<00:00, 857.91it/s]\u001b[A\n",
            "Evaluation - Iteration:: 100%|██████████| 313/313 [00:00<00:00, 877.60it/s]\n",
            "Epochs: 100%|██████████| 10/10 [00:48<00:00,  4.88s/it]"
          ]
        },
        {
          "name": "stdout",
          "output_type": "stream",
          "text": [
            "\u001b[1mEpoch\u001b[1m: 9\n",
            "\u001b[1mTrain loss\u001b[1m: 0.856215238571167.\n",
            "\u001b[1mTrain accuracy[%]\u001b[1m: 74.92999999999999.\n",
            "\u001b[1mCross-validation loss\u001b[1m: 0.5227481722831726.\n",
            "\u001b[1mCross-validation accuracy[%]\u001b[1m: 79.61.\n",
            "Train finished.\n"
          ]
        },
        {
          "name": "stderr",
          "output_type": "stream",
          "text": [
            "\n"
          ]
        }
      ],
      "source": [
        "# Training performed\n",
        "if not(skip_training):\n",
        "\n",
        "  # Placeholder for training loss\n",
        "  train_loss_list=[]\n",
        "  # Placeholder for validation loss\n",
        "  cv_loss_list=[]\n",
        "\n",
        "  # If GPU is available and selected, model is moved to GPU.\n",
        "  if torch.cuda.is_available():\n",
        "    model=model.cuda()\n",
        "\n",
        "  # Start training - looping over n_epochs.\n",
        "  for epoch in tqdm(range(n_epochs), desc=\"Epochs\"):\n",
        "      # Setting up the model to perform training.\n",
        "      model.train()\n",
        "\n",
        "      # Number of correct predictions for train split\n",
        "      train_correct = 0\n",
        "      # Number of total predictions for train split\n",
        "      train_total = 0\n",
        "      # Perform mini-batch training, i.e., splitting training into a certain number of batches.\n",
        "      for x_train_batch, y_train_batch in tqdm(train_loader, desc='Training - Iterations:'):\n",
        "          # If GPU is available and selected, data are moved to GPU.\n",
        "          if torch.cuda.is_available():\n",
        "            # Move to GPU\n",
        "            x_train_batch=x_train_batch.cuda()\n",
        "            y_train_batch=y_train_batch.cuda()\n",
        "\n",
        "          # Setting the gradient to zero.\n",
        "          optimizer.zero_grad()\n",
        "          # Calculating the predictions on the batch.\n",
        "          y_pred_train = model(x_train_batch)\n",
        "          # Calculating the loss between Y_pred and the y_train_batch (targets).\n",
        "          train_loss = loss(y_pred_train, y_train_batch)\n",
        "          # Back-propagting the loss, i.e., calculating the weight increments in the different layers.\n",
        "          train_loss.backward()\n",
        "          # Updating weights by using SGD optimizer.\n",
        "          optimizer.step()\n",
        "          # Extracting predicted class.\n",
        "          y_train_predicted_class = torch.max(y_pred_train, 1)[1]\n",
        "          # Updating total and number of corrected patches\n",
        "          train_correct += (y_train_predicted_class == y_train_batch).sum().item()\n",
        "          train_total += y_train_batch.size(0)\n",
        "\n",
        "      # Calculating training accuracy\n",
        "      train_accuracy = train_correct/train_total * 100\n",
        "\n",
        "      # Append training loss values at the end of an epoch\n",
        "      train_loss_list.append(train_loss)\n",
        "\n",
        "\n",
        "      print(f'Evaluating model at epoch: {epoch}.')\n",
        "\n",
        "      # Setting up the model to perform the inference (some layers in the model behave differently during the training and inference)\n",
        "      model.eval()\n",
        "\n",
        "      # Number of correct predictions for cross validation split\n",
        "      cv_correct = 0\n",
        "      # Number of total predictions for cross validation split\n",
        "      cv_total = 0\n",
        "\n",
        "      # Evaluating model on the cross-validation split. Since we are not training, we do not need to calculate gradients.\n",
        "      with torch.no_grad():\n",
        "          # Splitting cross-validation into batches.\n",
        "          for x_cv_batch, y_cv_batch in tqdm(valid_loader, desc='Evaluation - Iteration:'):\n",
        "              # Moving batches to the GPU if available\n",
        "              if torch.cuda.is_available():\n",
        "                  x_cv_batch=x_cv_batch.cuda()\n",
        "                  y_cv_batch=y_cv_batch.cuda()\n",
        "\n",
        "              # Performing evaluation on the cross-valiation split.\n",
        "              y_cv_pred = model(x_cv_batch)\n",
        "              # Extracting loss on the cross-valiation split.\n",
        "              cv_loss = loss(y_cv_pred, y_cv_batch)\n",
        "              # Extracting predicted class.\n",
        "              y_cv_predicted_class =  torch.max(y_cv_pred, 1)[1]\n",
        "              # Updating total and number of corrected patches\n",
        "              cv_total += y_cv_batch.size(0)\n",
        "              cv_correct += (y_cv_predicted_class == y_cv_batch).sum().item()\n",
        "          # Calculating the evaluation accuracy\n",
        "          cv_accuracy = cv_correct/cv_total * 100\n",
        "\n",
        "          # Append validation loss values at the end\n",
        "          cv_loss_list.append(cv_loss)\n",
        "\n",
        "      # Print information\n",
        "      print(f\"\\033[1mEpoch\\033[1m: {str(epoch)}\")\n",
        "      print(f\"\\033[1mTrain loss\\033[1m: {str(float(train_loss))}.\")\n",
        "      print(f\"\\033[1mTrain accuracy[%]\\033[1m: {str(train_accuracy)}.\")\n",
        "      print(f\"\\033[1mCross-validation loss\\033[1m: {str(float(cv_loss))}.\")\n",
        "      print(f\"\\033[1mCross-validation accuracy[%]\\033[1m: {str(cv_accuracy)}.\")\n",
        "\n",
        "  # Saving best model\n",
        "  torch.save(model.state_dict(), \"trained_model.pth\")\n",
        "  print(\"Train finished.\")\n",
        "else:\n",
        "  print(\"Skipping training...\")\n",
        "  try:\n",
        "    # Load loss values from file\n",
        "    with open('losses.pkl', \"rb\") as f:  # Python 3: open(..., 'rb')\n",
        "      train_loss_list, cv_loss_list = pickle.load(f)\n",
        "  except:\n",
        "    raise ValueError(\"It seems you have missed some files from Brightspace. One or both the losses values were missing. Please, upload them and execute this cell again or try to do the training.\")\n",
        "  try:\n",
        "    model.load_state_dict(torch.load(\"trained_model.pth\"))\n",
        "  except:\n",
        "    raise ValueError(\"It seems you are using a different model from the default one (strong) or the \"\"trained_model.pth\"\" file is missing.\")"
      ]
    },
    {
      "cell_type": "markdown",
      "metadata": {
        "id": "r2srK0XP6_Sp"
      },
      "source": [
        "## 6 - Monitor training results"
      ]
    },
    {
      "cell_type": "markdown",
      "metadata": {
        "id": "BZx5FavOFhNb"
      },
      "source": [
        "### 6.1 - Plotting loss values over training"
      ]
    },
    {
      "cell_type": "markdown",
      "metadata": {
        "id": "M-54KoiP7HOH"
      },
      "source": [
        "The next cell will show the training results. If you used the model with defaults values of parameters and `test_overfitting=False`, training should have gone well. In this case, both the **train** and **cross-validation** losses should have sufficiently decreased during training. <br> If you had experimented **overfitting**, only the loss function on the training set should have decreased much more than the one into cross validation split. <br>\n",
        "In case of **underfitting** both the loss have decreased very few."
      ]
    },
    {
      "cell_type": "code",
      "execution_count": 15,
      "metadata": {
        "colab": {
          "base_uri": "https://localhost:8080/",
          "height": 467
        },
        "id": "9ySzwyPF0U6Y",
        "outputId": "8bb5c2c4-ca66-4b8e-f93f-91eb46e2d5d8"
      },
      "outputs": [
        {
          "data": {
            "text/plain": [
              "Text(0, 0.5, 'Loss')"
            ]
          },
          "execution_count": 15,
          "metadata": {},
          "output_type": "execute_result"
        },
        {
          "data": {
            "image/png": "[encoded data removed]",
            "text/plain": [
              "<Figure size 640x480 with 1 Axes>"
            ]
          },
          "metadata": {},
          "output_type": "display_data"
        }
      ],
      "source": [
        "# Preparation for plot. Moving losses from GPU to CPU (required by matplotlib) and converting them to list.\n",
        "if torch.is_tensor(train_loss_list[0]):\n",
        "   train_loss_list=[float(x.detach().cpu()) for x in train_loss_list]\n",
        "\n",
        "if torch.is_tensor(cv_loss_list[0]):\n",
        "   cv_loss_list=[float(x.detach().cpu()) for x in cv_loss_list]\n",
        "plt.plot(range(len(train_loss_list)), train_loss_list,'r')\n",
        "plt.plot(range(len(cv_loss_list)), cv_loss_list, 'g')\n",
        "plt.legend([\"train loss\", \"cv loss\"])\n",
        "plt.xlabel(\"Epochs\")\n",
        "plt.ylabel(\"Loss\")"
      ]
    },
    {
      "cell_type": "code",
      "execution_count": 16,
      "metadata": {
        "id": "W8uVHDFb69lU"
      },
      "outputs": [],
      "source": [
        "with open('losses.pkl', 'wb') as f:  # Python 3: open(..., 'wb')\n",
        "    pickle.dump([train_loss_list, cv_loss_list], f)"
      ]
    },
    {
      "cell_type": "markdown",
      "metadata": {
        "id": "GhEE5_xX6ph_"
      },
      "source": [
        "## 6.2 - Measuring accuracy on the test split"
      ]
    },
    {
      "cell_type": "markdown",
      "metadata": {
        "id": "2a9M5_3FFsdU"
      },
      "source": [
        "The next cell will measure the accuracy that the trained model achieves on the test split."
      ]
    },
    {
      "cell_type": "code",
      "execution_count": 17,
      "metadata": {
        "colab": {
          "base_uri": "https://localhost:8080/"
        },
        "id": "ORg7K-Cy2qtz",
        "outputId": "1fb3528d-5917-4951-ee53-accb713f7dbc"
      },
      "outputs": [
        {
          "name": "stderr",
          "output_type": "stream",
          "text": [
            "Test - Iteration:: 100%|██████████| 313/313 [00:01<00:00, 165.74it/s]\n"
          ]
        },
        {
          "name": "stdout",
          "output_type": "stream",
          "text": [
            "\u001b[1mTest accuracy[%]\u001b[1m: 80.07\n"
          ]
        }
      ],
      "source": [
        "# Set model to evaluation model (some layers, as dropout will change their behaviour)\n",
        "model.eval()\n",
        "\n",
        "# Number of correct predictions for test split\n",
        "test_correct = 0\n",
        "# Number of total predictions for test split\n",
        "test_total = 0\n",
        "\n",
        "# Prediction placeholders\n",
        "predictions=[]\n",
        "\n",
        "# Target placeholders\n",
        "targets=[]\n",
        "\n",
        "# Images placeholders\n",
        "images=[]\n",
        "\n",
        "# Moving model to GPU if CUDA is available.\n",
        "if torch.cuda.is_available():\n",
        "    model=model.cuda()\n",
        "\n",
        "# Evaluating model on the test split. Since we are not training, we do not need to calculate gradients.\n",
        "with torch.no_grad():\n",
        "    # Splitting cross-validation into batches.\n",
        "    for x_test_batch, y_test_batch in tqdm(test_loader, desc='Test - Iteration:'):\n",
        "        # Moving batches to GPU if CUDA is available.\n",
        "        if torch.cuda.is_available():\n",
        "            x_test_batch=x_test_batch.cuda()\n",
        "            y_test_batch=y_test_batch.cuda()\n",
        "\n",
        "        # Performing evaluation on the test split.\n",
        "        y_test_pred = model(x_test_batch)\n",
        "        # Extracting predicted class.\n",
        "        y_test_predicted_class =  torch.max(y_test_pred, 1)[1]\n",
        "        # Updating total and number of corrected patches\n",
        "        test_total += y_test_batch.size(0)\n",
        "        test_correct += (y_test_predicted_class == y_test_batch).sum().item()\n",
        "        # Stacking predictions, targets, and images.\n",
        "        predictions+=list(y_test_predicted_class)\n",
        "        targets+=list(y_test_batch)\n",
        "        images+=list(x_test_batch)\n",
        "    # Calculating the evaluation accuracy\n",
        "    test_accuracy = test_correct/test_total * 100\n",
        "\n",
        "print('\\033[1mTest accuracy[%]\\033[1m: ' +str(float(test_accuracy)))\n",
        "\n",
        "# Moving predictions, images and targets to CPU\n",
        "predictions=[x.detach().cpu().numpy() for x in predictions]\n",
        "targets=[x.detach().cpu().numpy() for x in targets]\n",
        "images=[x.detach().cpu().numpy() for x in images]\n"
      ]
    },
    {
      "cell_type": "markdown",
      "metadata": {
        "id": "GZGdO5hyGqsk"
      },
      "source": [
        "## 6.3 - Show predictions on random images"
      ]
    },
    {
      "cell_type": "markdown",
      "metadata": {
        "id": "8eNHz3fNGq7J"
      },
      "source": [
        "The next cell will take randome examples from the test split and showcases the predicted class (**predicted**) versus the (**expected**) class. <br> This is done through the `plot_random_samples` included in the `utils.py` file.\n",
        "If you have set `test_overfitting` to `True`, you will see the model will be in general capable to predict correctly all the classes but `8` and `9`."
      ]
    },
    {
      "cell_type": "code",
      "execution_count": 18,
      "metadata": {
        "id": "_aoBnbC9ICmy"
      },
      "outputs": [],
      "source": [
        "import matplotlib.pyplot as plt\n",
        "def plot_samples(samples, targets, predictions):\n",
        "  fig, axes = plt.subplots(1, 5, figsize=(10, 2))\n",
        "  for i, ax in enumerate(axes):\n",
        "    sample = samples[i].reshape(28, 28) # Reshape to (28, 28)\n",
        "    ax.imshow(sample, cmap='gray')\n",
        "    ax.set_title(f'True: {targets[i]} | Pred: {predictions[i]}')\n",
        "    ax.axis('off')\n",
        "    plt.tight_layout()"
      ]
    },
    {
      "cell_type": "code",
      "execution_count": 19,
      "metadata": {
        "colab": {
          "base_uri": "https://localhost:8080/",
          "height": 207
        },
        "id": "sCFOZrTqIPzH",
        "outputId": "ee972485-159a-4cd7-e37d-b339fb606ba7"
      },
      "outputs": [
        {
          "data": {
            "image/png": "[encoded data removed]",
            "text/plain": [
              "<Figure size 1000x200 with 5 Axes>"
            ]
          },
          "metadata": {},
          "output_type": "display_data"
        }
      ],
      "source": [
        "plot_samples(images, targets, predictions)"
      ]
    },
    {
      "cell_type": "code",
      "execution_count": null,
      "metadata": {
        "id": "jF7RI90QlToq"
      },
      "outputs": [],
      "source": []
    }
  ],
  "metadata": {
    "accelerator": "GPU",
    "colab": {
      "gpuType": "T4",
      "provenance": []
    },
    "kernelspec": {
      "display_name": ".venv",
      "language": "python",
      "name": "python3"
    },
    "language_info": {
      "name": "python",
      "version": "3.12.8"
    }
  },
  "nbformat": 4,
  "nbformat_minor": 0
}
