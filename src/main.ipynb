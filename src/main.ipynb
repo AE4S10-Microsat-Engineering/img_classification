{
 "cells": [
  {
   "cell_type": "markdown",
   "metadata": {},
   "source": [
    "### Setup imports"
   ]
  },
  {
   "cell_type": "code",
   "execution_count": 23,
   "metadata": {},
   "outputs": [],
   "source": [
    "import os\n",
    "import torch\n",
    "from torchvision import datasets, transforms\n",
    "from torch.utils.data import Subset, DataLoader\n",
    "from sklearn.model_selection import train_test_split"
   ]
  },
  {
   "cell_type": "markdown",
   "metadata": {},
   "source": [
    "### Load datasets"
   ]
  },
  {
   "cell_type": "code",
   "execution_count": 24,
   "metadata": {},
   "outputs": [],
   "source": [
    "DATASET_PATH = os.path.join(os.getcwd(), \"../training_data/EuroSAT_RGB\")\n",
    "\n",
    "BATCH_SIZE = 10\n",
    "TEST_SIZE = 0.2\n"
   ]
  },
  {
   "cell_type": "code",
   "execution_count": 25,
   "metadata": {},
   "outputs": [],
   "source": [
    "dataset_full = datasets.ImageFolder(root=DATASET_PATH, transform=None)\n",
    "\n",
    "# Split into training and validation set\n",
    "train_idx, val_idx = train_test_split(\n",
    "  range(len(dataset_full)),       # Size of the full dataset\n",
    "  test_size=TEST_SIZE,            # Fraction used for validation (test)\n",
    "  stratify=dataset_full.targets   # Ensure class distribution is preserved\n",
    ")\n",
    "\n",
    "# Create the training and validation set\n",
    "dataset_train = Subset(dataset_full, train_idx)\n",
    "dataset_val = Subset(dataset_full, val_idx)\n",
    "\n",
    "loader_train = DataLoader(dataset_train, batch_size=BATCH_SIZE, shuffle=False)\n",
    "val_train = DataLoader(dataset_val, batch_size=BATCH_SIZE, shuffle=False)"
   ]
  }
 ],
 "metadata": {
  "kernelspec": {
   "display_name": ".venv",
   "language": "python",
   "name": "python3"
  },
  "language_info": {
   "codemirror_mode": {
    "name": "ipython",
    "version": 3
   },
   "file_extension": ".py",
   "mimetype": "text/x-python",
   "name": "python",
   "nbconvert_exporter": "python",
   "pygments_lexer": "ipython3",
   "version": "3.12.8"
  }
 },
 "nbformat": 4,
 "nbformat_minor": 2
}
